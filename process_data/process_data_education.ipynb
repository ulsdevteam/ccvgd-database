{
 "cells": [
  {
   "cell_type": "code",
   "execution_count": 27,
   "metadata": {},
   "outputs": [],
   "source": [
    "import pandas as pd\n",
    "import numpy as np\n",
    "import math\n",
    "import os\n",
    "\n",
    "def printCategory(category_dict):\n",
    "    for category in category_dict:\n",
    "        print(category)\n",
    "        if category_dict[category] is not None:\n",
    "            sub_dic = category_dict[category]\n",
    "            printCategory(sub_dic)\n",
    "            \n",
    "def createLevelColumns(df, levels, new_columns):\n",
    "    for i in range(len(df)):\n",
    "        \n",
    "        df_level1, df_level2, df_level3 = \"NULL\",\"NULL\",\"NULL\"\n",
    "        \n",
    "        df_level1, nextLevels = findNotNullLevel(df, i, levels)\n",
    "        if nextLevels is not None:\n",
    "            df_level2, nextLevels = findNotNullLevel(df, i, nextLevels)\n",
    "            if nextLevels is not None:\n",
    "                df_level3, nextLevel = findNotNullLevel(df, i, nextLevels)\n",
    "        \n",
    "        most_specific_category = \"NULL\"\n",
    "        \n",
    "        if df_level3 != \"NULL\":\n",
    "            df_level3 = df_level3 + \"__\" + df_level2 + \"__\" + df_level1\n",
    "        if df_level2 != \"NULL\":\n",
    "            df_level2 = df_level2 + \"__\" + df_level1\n",
    "        \n",
    "        if df_level3 != \"NULL\":\n",
    "            most_specific_category = df_level3\n",
    "        elif df_level2 != \"NULL\":\n",
    "            most_specific_category = df_level2\n",
    "        elif df_level1 != \"NULL\":\n",
    "            most_specific_category = df_level1\n",
    "        \n",
    "        df.iloc[i, df.columns.get_loc('level1')] = df_level1\n",
    "        df.iloc[i, df.columns.get_loc('level2')] = df_level2\n",
    "        df.iloc[i, df.columns.get_loc('level3')] = df_level3\n",
    "        df.iloc[i, df.columns.get_loc('mostSpecificCategory')] = most_specific_category\n",
    "        \n",
    "def findNotNullLevel(df, i, levels):\n",
    "    for level in levels:\n",
    "        if df.iloc[i][level] == \"NULL\":\n",
    "            continue\n",
    "        else:\n",
    "            return df.iloc[i][level], levels[level]\n",
    "    return \"NULL\", None\n",
    "\n",
    "def unionTwoLists(list1, list2):\n",
    "    for category in list1:\n",
    "        if category not in list2:\n",
    "            list2.append(category)\n",
    "    return list2\n",
    "\n",
    "def checkNULL(checked_list):\n",
    "    for item in checked_list:\n",
    "        if item == \"NULL\":\n",
    "            print(\"Contains NULL\")\n",
    "            return\n",
    "    print(\"Not contains NULL\")"
   ]
  },
  {
   "cell_type": "markdown",
   "metadata": {},
   "source": [
    "#### 导入数据 yearly and range\n",
    "#### process为designed schema\n",
    "1. GazetteerEconomy table\n",
    "\n",
    "    1.1 Index - Id\n",
    "    \n",
    "    1.2 Gazetteer Code - gazetteerId\n",
    "    \n",
    "    1.3 Category - categoryId\n",
    "    \n",
    "    1.4 yearly - startYear = endYear\n",
    "    \n",
    "    1.5 2010 data - data\n",
    "    \n",
    "    1.6 Unit - unitId\n",
    "    \n",
    "2. EconomyCategory table\n",
    "    2.1 Category Division1 Subdivision - Agri. Subdivision - Misc. Subdivision - Service Division2 Subdivision - Househould\n",
    "    \n",
    "3. UnitCategory\n",
    "\n",
    "4. Gazetteer "
   ]
  },
  {
   "cell_type": "code",
   "execution_count": 51,
   "metadata": {},
   "outputs": [],
   "source": [
    "path = os.path.abspath(os.getcwd())\n",
    "df = pd.read_csv(path + \"/Data2/Education - Yearly.csv\")\n",
    "df2 = pd.read_csv(path + \"/Data2/Education - Range.csv\")\n",
    "df = df.dropna(axis = 0, how = 'all')\n",
    "df2 = df2.dropna(axis = 0, how = 'all')"
   ]
  },
  {
   "cell_type": "code",
   "execution_count": 52,
   "metadata": {},
   "outputs": [
    {
     "name": "stdout",
     "output_type": "stream",
     "text": [
      "Index(['村志代码 Gazetteer Code', '村志书名 Gazetteer Title', 'Category', 'Division1',\n",
      "       'Subdivision', '1949', '1950', '1951', '1952', '1953', '1954', '1955',\n",
      "       '1956', '1957', '1958', '1959', '1960', '1961', '1962', '1963', '1964',\n",
      "       '1965', '1966', '1967', '1968', '1969', '1970', '1971', '1972', '1973',\n",
      "       '1974', '1975', '1976', '1977', '1978', '1979', '1980', '1981', '1982',\n",
      "       '1983', '1984', '1985', '1986', '1987', '1988', '1989', '1990', '1991',\n",
      "       '1992', '1993', '1994', '1995', '1996', '1997', '1998', '1999', '2000',\n",
      "       '2001', '2002', '2003', '2004', '2005', '2006', '2007', '2008', '2009',\n",
      "       '2010', '2011', '2012', '2013', '2014', '2015', '2016', '2017', '2018',\n",
      "       '2019'],\n",
      "      dtype='object')\n",
      "[小学在校生 Elementary School Students, 小学老师 Elementary School Teachers, 受教育程度 Highest Level of Education, 新入学生 - 大学 Initial Student Enrollment - College...]\n",
      "Categories (4, object): [小学在校生 Elementary School Students, 小学老师 Elementary School Teachers, 受教育程度 Highest Level of Education, 新入学生 - 大学 Initial Student Enrollment - College...]\n",
      "[NaN, 小学 Elementary School, 初中 Junior High School, 中专高中 High School, 大专以上 College/University or Higher, 文盲 Illiterate]\n",
      "Categories (5, object): [小学 Elementary School, 初中 Junior High School, 中专高中 High School, 大专以上 College/University or Higher, 文盲 Illiterate]\n",
      "[NaN, 人数 number of people, 百分比 (%) percentage]\n",
      "Categories (2, object): [人数 number of people, 百分比 (%) percentage]\n"
     ]
    }
   ],
   "source": [
    "print(df.columns)\n",
    "print(df['Category'].astype('category').unique())\n",
    "print(df['Division1'].astype('category').unique())\n",
    "print(df['Subdivision'].astype('category').unique())"
   ]
  },
  {
   "cell_type": "code",
   "execution_count": 53,
   "metadata": {},
   "outputs": [
    {
     "name": "stdout",
     "output_type": "stream",
     "text": [
      "Category\n",
      "Division1\n",
      "Subdivision\n"
     ]
    }
   ],
   "source": [
    "# create new columns at df and df2\n",
    "new_columns = ['level1', 'level2', 'level3', 'mostSpecificCategory', 'categoryId']\n",
    "\n",
    "for column in new_columns:\n",
    "    df[column] = None\n",
    "df = df.where(df.notnull(), \"NULL\")\n",
    "\n",
    "for column in new_columns:\n",
    "    df2[column] = None\n",
    "df2 = df2.where(df2.notnull(), \"NULL\")\n",
    "\n",
    "# create dictionary records category levles\n",
    "heading = {'Category': {'Division1':{'Subdivision': None}}}\n",
    "\n",
    "printCategory(heading)\n",
    "\n",
    "\n",
    "createLevelColumns(df, heading, new_columns)\n",
    "createLevelColumns(df2, heading, new_columns)"
   ]
  },
  {
   "cell_type": "code",
   "execution_count": 54,
   "metadata": {},
   "outputs": [
    {
     "name": "stdout",
     "output_type": "stream",
     "text": [
      "Contains NULL\n",
      "total number of categories are 20\n",
      "Not contains NULL\n",
      "total number of recorded categories are 13\n"
     ]
    }
   ],
   "source": [
    "level1 = unionTwoLists([cat for cat in df['level1'].astype('category').unique()], \n",
    "                       [cat for cat in df2['level1'].astype('category').unique()] )\n",
    "\n",
    "level2 = unionTwoLists([cat for cat in df['level2'].astype('category').unique()], \n",
    "                       [cat for cat in df2['level2'].astype('category').unique()] )\n",
    "\n",
    "level3 = unionTwoLists([cat for cat in df['level3'].astype('category').unique()], \n",
    "                       [cat for cat in df2['level3'].astype('category').unique()] )\n",
    "\n",
    "most_specific_category = unionTwoLists([cat for cat in df['mostSpecificCategory'].astype('category').unique()],\n",
    "                                       [cat for cat in df2['mostSpecificCategory'].astype('category').unique()])\n",
    "\n",
    "total_categories = unionTwoLists(level1, level2)\n",
    "total_categories = unionTwoLists(level3, total_categories)\n",
    "\n",
    "# get total categories\n",
    "total_categories.sort()\n",
    "checkNULL(total_categories)\n",
    "print(\"total number of categories are \" + str(len(total_categories)))\n",
    "# temp = [ item.split('__', 1) for item in total_categories]\n",
    "\n",
    "# get most specific category\n",
    "most_specific_category.sort()\n",
    "checkNULL(most_specific_category)\n",
    "print(\"total number of recorded categories are \" + str(len(most_specific_category)))\n",
    "\n",
    "# create dict \"dic_category_id\" store { category_name : id}\n",
    "dic_category_id = {}\n",
    "count = 1\n",
    "for category in total_categories:\n",
    "    if category != \"NULL\" and category not in dic_category_id:\n",
    "        dic_category_id[category] = count\n",
    "        count = count + 1"
   ]
  },
  {
   "cell_type": "code",
   "execution_count": 55,
   "metadata": {},
   "outputs": [
    {
     "data": {
      "text/plain": [
       "3509"
      ]
     },
     "execution_count": 55,
     "metadata": {},
     "output_type": "execute_result"
    }
   ],
   "source": [
    "total_categories.sort()\n",
    "total_categories\n",
    "\n",
    "len(df)"
   ]
  },
  {
   "cell_type": "code",
   "execution_count": 56,
   "metadata": {},
   "outputs": [],
   "source": [
    "# creat categoryId column at dataframe\n",
    "df_categoryId = []\n",
    "for i in range(len(df)):\n",
    "    category = df.iloc[i]['mostSpecificCategory']\n",
    "    if category in dic_category_id:\n",
    "        df_categoryId.append(dic_category_id[category])\n",
    "    else:\n",
    "        print(\"Not recorded category for entity \" + str(i))\n",
    "        break;\n",
    "df['categoryId'] = df_categoryId\n",
    "\n",
    "df_categoryId = []\n",
    "for i in range(len(df2)):\n",
    "    category = df2.iloc[i]['mostSpecificCategory']\n",
    "    if category in dic_category_id:\n",
    "        df_categoryId.append(dic_category_id[category])\n",
    "    else:\n",
    "        print(\"Not recorded category for entity \" + str(i))\n",
    "        break;\n",
    "df2['categoryId'] = df_categoryId"
   ]
  },
  {
   "cell_type": "code",
   "execution_count": 59,
   "metadata": {},
   "outputs": [
    {
     "name": "stdout",
     "output_type": "stream",
     "text": [
      "Index(['村志代码 Gazetteer Code', '村志书名 Gazetteer Title', 'Category', 'Division1',\n",
      "       'Subdivision', '1949', '1950', '1951', '1952', '1953', '1954', '1955',\n",
      "       '1956', '1957', '1958', '1959', '1960', '1961', '1962', '1963', '1964',\n",
      "       '1965', '1966', '1967', '1968', '1969', '1970', '1971', '1972', '1973',\n",
      "       '1974', '1975', '1976', '1977', '1978', '1979', '1980', '1981', '1982',\n",
      "       '1983', '1984', '1985', '1986', '1987', '1988', '1989', '1990', '1991',\n",
      "       '1992', '1993', '1994', '1995', '1996', '1997', '1998', '1999', '2000',\n",
      "       '2001', '2002', '2003', '2004', '2005', '2006', '2007', '2008', '2009',\n",
      "       '2010', '2011', '2012', '2013', '2014', '2015', '2016', '2017', '2018',\n",
      "       '2019', 'level1', 'level2', 'level3', 'mostSpecificCategory',\n",
      "       'categoryId'],\n",
      "      dtype='object')\n",
      "Index(['村志代码 Gazetteer Code', '村志书名 Gazetteer Title', 'Category', 'Division1',\n",
      "       'Subdivision', 'Start Year', 'End Year', 'Data', 'level1', 'level2',\n",
      "       'level3', 'mostSpecificCategory', 'categoryId'],\n",
      "      dtype='object')\n"
     ]
    }
   ],
   "source": [
    "print(df.columns)\n",
    "print(df2.columns)"
   ]
  },
  {
   "cell_type": "code",
   "execution_count": 61,
   "metadata": {},
   "outputs": [
    {
     "data": {
      "text/html": [
       "<div>\n",
       "<style scoped>\n",
       "    .dataframe tbody tr th:only-of-type {\n",
       "        vertical-align: middle;\n",
       "    }\n",
       "\n",
       "    .dataframe tbody tr th {\n",
       "        vertical-align: top;\n",
       "    }\n",
       "\n",
       "    .dataframe thead th {\n",
       "        text-align: right;\n",
       "    }\n",
       "</style>\n",
       "<table border=\"1\" class=\"dataframe\">\n",
       "  <thead>\n",
       "    <tr style=\"text-align: right;\">\n",
       "      <th></th>\n",
       "      <th>gazetteerId</th>\n",
       "      <th>categoryId</th>\n",
       "      <th>startYear</th>\n",
       "      <th>endYear</th>\n",
       "      <th>data</th>\n",
       "    </tr>\n",
       "  </thead>\n",
       "  <tbody>\n",
       "    <tr>\n",
       "      <th>0</th>\n",
       "      <td>1.0</td>\n",
       "      <td>11</td>\n",
       "      <td>1980.0</td>\n",
       "      <td>1980.0</td>\n",
       "      <td>500</td>\n",
       "    </tr>\n",
       "    <tr>\n",
       "      <th>1</th>\n",
       "      <td>1.0</td>\n",
       "      <td>12</td>\n",
       "      <td>1980.0</td>\n",
       "      <td>1980.0</td>\n",
       "      <td>26</td>\n",
       "    </tr>\n",
       "    <tr>\n",
       "      <th>2</th>\n",
       "      <td>2.0</td>\n",
       "      <td>11</td>\n",
       "      <td>2007.0</td>\n",
       "      <td>2007.0</td>\n",
       "      <td>258</td>\n",
       "    </tr>\n",
       "    <tr>\n",
       "      <th>3</th>\n",
       "      <td>2.0</td>\n",
       "      <td>12</td>\n",
       "      <td>2007.0</td>\n",
       "      <td>2007.0</td>\n",
       "      <td>25</td>\n",
       "    </tr>\n",
       "    <tr>\n",
       "      <th>4</th>\n",
       "      <td>3.0</td>\n",
       "      <td>11</td>\n",
       "      <td>1959.0</td>\n",
       "      <td>1959.0</td>\n",
       "      <td>1000</td>\n",
       "    </tr>\n",
       "  </tbody>\n",
       "</table>\n",
       "</div>"
      ],
      "text/plain": [
       "   gazetteerId  categoryId  startYear  endYear  data\n",
       "0          1.0          11     1980.0   1980.0   500\n",
       "1          1.0          12     1980.0   1980.0    26\n",
       "2          2.0          11     2007.0   2007.0   258\n",
       "3          2.0          12     2007.0   2007.0    25\n",
       "4          3.0          11     1959.0   1959.0  1000"
      ]
     },
     "execution_count": 61,
     "metadata": {},
     "output_type": "execute_result"
    }
   ],
   "source": [
    "# create economy_df\n",
    "economy_df = pd.DataFrame(columns = ['gazetteerId', 'categoryId', 'startYear', 'endYear', 'data'])\n",
    "years = [str(i) for i in range(1949,2020)]\n",
    "dic_for_economy_df = {'gazetteerId':[], 'categoryId':[], 'startYear':[], 'endYear':[], 'data':[]}\n",
    "\n",
    "# Process yearly data\n",
    "for i in range(len(df)):# each row\n",
    "    for year in years: # 1949 - 2019\n",
    "        if df.iloc[i][year] != \"NULL\":\n",
    "            dic_for_economy_df['gazetteerId'].append(df.iloc[i]['村志代码 Gazetteer Code'])\n",
    "            dic_for_economy_df['categoryId'].append(df.iloc[i]['categoryId'])\n",
    "            dic_for_economy_df['startYear'].append(int(year))\n",
    "            dic_for_economy_df['endYear'].append(int(year))\n",
    "            dic_for_economy_df['data'].append(df.iloc[i][year])\n",
    "#             dic_for_economy_df['unitId'].append(dic_for_unitId[df.iloc[i]['Unit']])\n",
    "\n",
    "# Process range data\n",
    "for i in range(len(df2)):\n",
    "    dic_for_economy_df['gazetteerId'].append(df2.iloc[i]['村志代码 Gazetteer Code'])\n",
    "    dic_for_economy_df['categoryId'].append(df2.iloc[i]['categoryId'])\n",
    "    dic_for_economy_df['startYear'].append(df2.iloc[i]['Start Year'])\n",
    "    dic_for_economy_df['endYear'].append(df2.iloc[i]['End Year'])\n",
    "    dic_for_economy_df['data'].append(df2.iloc[i]['Data'])\n",
    "#     dic_for_economy_df['unitId'].append(dic_for_unitId[df.iloc[i]['Unit']])\n",
    "\n",
    "for attribute in economy_df.columns:\n",
    "    economy_df[attribute] = dic_for_economy_df[attribute]\n",
    "    \n",
    "\n",
    "economy_df.head()"
   ]
  },
  {
   "cell_type": "code",
   "execution_count": 63,
   "metadata": {},
   "outputs": [
    {
     "data": {
      "text/plain": [
       "19"
      ]
     },
     "execution_count": 63,
     "metadata": {},
     "output_type": "execute_result"
    }
   ],
   "source": [
    "# create economyCategory_df\n",
    "economyCategory_df = pd.DataFrame(columns = ['id', 'name', 'parentId'])\n",
    "dic_for_ecoCategorydf = {'id':[], 'name':[], 'parentId':[]}\n",
    "\n",
    "for category in dic_category_id:\n",
    "    child_parent = category.split('__', 1)\n",
    "    name = child_parent[0]\n",
    "    if len(child_parent) == 1:\n",
    "        dic_for_ecoCategorydf['id'].append(dic_category_id[category])\n",
    "        dic_for_ecoCategorydf['name'].append(name)\n",
    "        dic_for_ecoCategorydf['parentId'].append(\"NULL\")\n",
    "    else:\n",
    "        parentId = dic_category_id[child_parent[1]]\n",
    "        dic_for_ecoCategorydf['id'].append(dic_category_id[category])\n",
    "        dic_for_ecoCategorydf['name'].append(name)\n",
    "        dic_for_ecoCategorydf['parentId'].append(parentId)\n",
    "        \n",
    "for attribute in economyCategory_df.columns:\n",
    "    economyCategory_df[attribute] = dic_for_ecoCategorydf[attribute]\n",
    "len(economyCategory_df)"
   ]
  },
  {
   "cell_type": "code",
   "execution_count": 65,
   "metadata": {},
   "outputs": [],
   "source": [
    "# creat economyUnitCategory_df\n",
    "# economyUnitCategory_df = pd.DataFrame(columns = ['id', 'name'])\n",
    "# dic_for_economyUnitCategory_df = {'id':[], 'name':[]}\n",
    "\n",
    "# for unit_name in dic_for_unitId:\n",
    "#     dic_for_economyUnitCategory_df['id'].append(dic_for_unitId[unit_name])\n",
    "#     dic_for_economyUnitCategory_df['name'].append(unit_name)\n",
    "    \n",
    "# for attribute in economyUnitCategory_df.columns:\n",
    "#     economyUnitCategory_df[attribute] = dic_for_economyUnitCategory_df[attribute]\n",
    "# len(economyUnitCategory_df)"
   ]
  },
  {
   "cell_type": "code",
   "execution_count": 68,
   "metadata": {},
   "outputs": [],
   "source": [
    "economy_df.to_csv('education_df.csv', index = False, na_rep = \"NULL\")"
   ]
  },
  {
   "cell_type": "code",
   "execution_count": 69,
   "metadata": {},
   "outputs": [],
   "source": [
    "economyCategory_df.to_csv('educationCategory.csv', index = False, na_rep = \"NULL\")"
   ]
  },
  {
   "cell_type": "code",
   "execution_count": 45,
   "metadata": {},
   "outputs": [],
   "source": [
    "# economyUnitCategory_df.to_csv('economyUnitCategory_df.csv', index = False, na_rep = \"NULL\")"
   ]
  },
  {
   "cell_type": "code",
   "execution_count": 9,
   "metadata": {},
   "outputs": [],
   "source": []
  },
  {
   "cell_type": "code",
   "execution_count": null,
   "metadata": {},
   "outputs": [],
   "source": []
  },
  {
   "cell_type": "code",
   "execution_count": null,
   "metadata": {},
   "outputs": [],
   "source": []
  },
  {
   "cell_type": "code",
   "execution_count": null,
   "metadata": {},
   "outputs": [],
   "source": []
  },
  {
   "cell_type": "code",
   "execution_count": null,
   "metadata": {},
   "outputs": [],
   "source": []
  },
  {
   "cell_type": "code",
   "execution_count": null,
   "metadata": {},
   "outputs": [],
   "source": []
  },
  {
   "cell_type": "code",
   "execution_count": null,
   "metadata": {},
   "outputs": [],
   "source": []
  },
  {
   "cell_type": "code",
   "execution_count": null,
   "metadata": {},
   "outputs": [],
   "source": []
  },
  {
   "cell_type": "code",
   "execution_count": null,
   "metadata": {},
   "outputs": [],
   "source": []
  },
  {
   "cell_type": "code",
   "execution_count": null,
   "metadata": {},
   "outputs": [],
   "source": []
  },
  {
   "cell_type": "code",
   "execution_count": null,
   "metadata": {},
   "outputs": [],
   "source": []
  },
  {
   "cell_type": "code",
   "execution_count": null,
   "metadata": {},
   "outputs": [],
   "source": []
  },
  {
   "cell_type": "code",
   "execution_count": null,
   "metadata": {},
   "outputs": [],
   "source": []
  },
  {
   "cell_type": "code",
   "execution_count": null,
   "metadata": {},
   "outputs": [],
   "source": []
  },
  {
   "cell_type": "code",
   "execution_count": null,
   "metadata": {},
   "outputs": [],
   "source": []
  },
  {
   "cell_type": "code",
   "execution_count": null,
   "metadata": {},
   "outputs": [],
   "source": []
  },
  {
   "cell_type": "code",
   "execution_count": null,
   "metadata": {},
   "outputs": [],
   "source": []
  },
  {
   "cell_type": "code",
   "execution_count": null,
   "metadata": {},
   "outputs": [],
   "source": []
  },
  {
   "cell_type": "code",
   "execution_count": null,
   "metadata": {},
   "outputs": [],
   "source": []
  },
  {
   "cell_type": "code",
   "execution_count": null,
   "metadata": {},
   "outputs": [],
   "source": []
  },
  {
   "cell_type": "code",
   "execution_count": null,
   "metadata": {},
   "outputs": [],
   "source": []
  },
  {
   "cell_type": "code",
   "execution_count": null,
   "metadata": {},
   "outputs": [],
   "source": []
  },
  {
   "cell_type": "code",
   "execution_count": null,
   "metadata": {},
   "outputs": [],
   "source": []
  },
  {
   "cell_type": "code",
   "execution_count": null,
   "metadata": {},
   "outputs": [],
   "source": []
  },
  {
   "cell_type": "code",
   "execution_count": null,
   "metadata": {},
   "outputs": [],
   "source": []
  }
 ],
 "metadata": {
  "kernelspec": {
   "display_name": "Python 3",
   "language": "python",
   "name": "python3"
  },
  "language_info": {
   "codemirror_mode": {
    "name": "ipython",
    "version": 3
   },
   "file_extension": ".py",
   "mimetype": "text/x-python",
   "name": "python",
   "nbconvert_exporter": "python",
   "pygments_lexer": "ipython3",
   "version": "3.7.3"
  }
 },
 "nbformat": 4,
 "nbformat_minor": 2
}
