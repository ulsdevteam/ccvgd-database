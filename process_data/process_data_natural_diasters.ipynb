{
 "cells": [
  {
   "cell_type": "code",
   "execution_count": 7,
   "metadata": {},
   "outputs": [],
   "source": [
    "import pandas as pd\n",
    "import numpy as np\n",
    "import math\n",
    "import os\n",
    "\n",
    "def printCategory(category_dict):\n",
    "    for category in category_dict:\n",
    "        print(category)\n",
    "        if category_dict[category] is not None:\n",
    "            sub_dic = category_dict[category]\n",
    "            printCategory(sub_dic)\n",
    "            \n",
    "def createLevelColumns(df, levels, new_columns):\n",
    "    for i in range(len(df)):\n",
    "        \n",
    "        df_level1, df_level2 = \"NULL\",\"NULL\"\n",
    "        \n",
    "        df_level1, nextLevels = findNotNullLevel(df, i, levels)\n",
    "        if nextLevels is not None:\n",
    "            df_level2, nextLevels = findNotNullLevel(df, i, nextLevels)\n",
    "        \n",
    "        most_specific_category = \"NULL\"\n",
    "        \n",
    "        if df_level2 != \"NULL\":\n",
    "            df_level2 = df_level2 + \"__\" + df_level1\n",
    "        \n",
    "        if df_level2 != \"NULL\":\n",
    "            most_specific_category = df_level2\n",
    "        elif df_level1 != \"NULL\":\n",
    "            most_specific_category = df_level1\n",
    "        \n",
    "        df.iloc[i, df.columns.get_loc('level1')] = df_level1\n",
    "        df.iloc[i, df.columns.get_loc('level2')] = df_level2\n",
    "        df.iloc[i, df.columns.get_loc('mostSpecificCategory')] = most_specific_category\n",
    "        \n",
    "def findNotNullLevel(df, i, levels):\n",
    "    for level in levels:\n",
    "        if df.iloc[i][level] == \"NULL\":\n",
    "            continue\n",
    "        else:\n",
    "            return df.iloc[i][level], levels[level]\n",
    "    return \"NULL\", None\n",
    "\n",
    "def unionTwoLists(list1, list2):\n",
    "    for category in list1:\n",
    "        if category not in list2:\n",
    "            list2.append(category)\n",
    "    return list2\n",
    "\n",
    "def checkNULL(checked_list):\n",
    "    for item in checked_list:\n",
    "        if item == \"NULL\":\n",
    "            print(\"Contains NULL\")\n",
    "            return\n",
    "    print(\"Not contains NULL\")"
   ]
  },
  {
   "cell_type": "code",
   "execution_count": 29,
   "metadata": {},
   "outputs": [
    {
     "name": "stdout",
     "output_type": "stream",
     "text": [
      "Index(['村志代码 Gazetteer Code', '村志书名 Gazetteer Title',\n",
      "       '自然灾害种类 Types of Natural Disasters', '年份 Years', 'Unnamed: 4',\n",
      "       'Unnamed: 5', 'Unnamed: 6', 'Unnamed: 7', 'Unnamed: 8', 'Unnamed: 9',\n",
      "       'Unnamed: 10', 'Unnamed: 11', 'Unnamed: 12', 'Unnamed: 13',\n",
      "       'Unnamed: 14', 'Unnamed: 15', 'Unnamed: 16', 'Unnamed: 17',\n",
      "       'Unnamed: 18', 'Unnamed: 19', 'Unnamed: 20', 'Unnamed: 21',\n",
      "       'Unnamed: 22', 'Unnamed: 23', 'Unnamed: 24'],\n",
      "      dtype='object')\n"
     ]
    }
   ],
   "source": [
    "path = os.path.abspath(os.getcwd())\n",
    "df = pd.read_csv(path + \"/Data2/Natural Disasters copy.csv\")\n",
    "df = df.dropna(axis = 0, how = 'all')\n",
    "print(df.columns)"
   ]
  },
  {
   "cell_type": "code",
   "execution_count": 41,
   "metadata": {},
   "outputs": [
    {
     "name": "stdout",
     "output_type": "stream",
     "text": [
      "Not contains NULL\n"
     ]
    }
   ],
   "source": [
    "new_columns = ['categoryId']\n",
    "for column in new_columns:\n",
    "    df[column] = None\n",
    "df = df.where(df.notnull(), \"NULL\")\n",
    "\n",
    "total_categories = [category for category in df['自然灾害种类 Types of Natural Disasters'].astype('category').unique()]\n",
    "total_categories.sort()\n",
    "checkNULL(total_categories)\n",
    "# create dict \"dic_category_id\" store { category_name : id}\n",
    "dic_category_id = {}\n",
    "count = 1\n",
    "for category in total_categories:\n",
    "    if category != \"NULL\" and category not in dic_category_id:\n",
    "        dic_category_id[category] = count\n",
    "        count = count + 1"
   ]
  },
  {
   "cell_type": "code",
   "execution_count": null,
   "metadata": {},
   "outputs": [],
   "source": []
  },
  {
   "cell_type": "code",
   "execution_count": 43,
   "metadata": {},
   "outputs": [],
   "source": [
    "# creat categoryId column at dataframe\n",
    "df_categoryId = []\n",
    "for i in range(len(df)):\n",
    "    category = df.iloc[i]['自然灾害种类 Types of Natural Disasters']\n",
    "    if category in dic_category_id:\n",
    "        df_categoryId.append(dic_category_id[category])\n",
    "    else:\n",
    "        print(\"Not recorded category for entity \" + str(i))\n",
    "        break;\n",
    "df['categoryId'] = df_categoryId"
   ]
  },
  {
   "cell_type": "code",
   "execution_count": 44,
   "metadata": {},
   "outputs": [
    {
     "data": {
      "text/html": [
       "<div>\n",
       "<style scoped>\n",
       "    .dataframe tbody tr th:only-of-type {\n",
       "        vertical-align: middle;\n",
       "    }\n",
       "\n",
       "    .dataframe tbody tr th {\n",
       "        vertical-align: top;\n",
       "    }\n",
       "\n",
       "    .dataframe thead th {\n",
       "        text-align: right;\n",
       "    }\n",
       "</style>\n",
       "<table border=\"1\" class=\"dataframe\">\n",
       "  <thead>\n",
       "    <tr style=\"text-align: right;\">\n",
       "      <th></th>\n",
       "      <th>gazetteerId</th>\n",
       "      <th>categoryId</th>\n",
       "      <th>year</th>\n",
       "    </tr>\n",
       "  </thead>\n",
       "  <tbody>\n",
       "    <tr>\n",
       "      <th>0</th>\n",
       "      <td>1</td>\n",
       "      <td>7</td>\n",
       "      <td>1959</td>\n",
       "    </tr>\n",
       "    <tr>\n",
       "      <th>1</th>\n",
       "      <td>1</td>\n",
       "      <td>7</td>\n",
       "      <td>1988</td>\n",
       "    </tr>\n",
       "    <tr>\n",
       "      <th>2</th>\n",
       "      <td>1</td>\n",
       "      <td>7</td>\n",
       "      <td>1991</td>\n",
       "    </tr>\n",
       "    <tr>\n",
       "      <th>3</th>\n",
       "      <td>1</td>\n",
       "      <td>2</td>\n",
       "      <td>2002</td>\n",
       "    </tr>\n",
       "    <tr>\n",
       "      <th>4</th>\n",
       "      <td>1</td>\n",
       "      <td>8</td>\n",
       "      <td>1997</td>\n",
       "    </tr>\n",
       "  </tbody>\n",
       "</table>\n",
       "</div>"
      ],
      "text/plain": [
       "   gazetteerId  categoryId  year\n",
       "0            1           7  1959\n",
       "1            1           7  1988\n",
       "2            1           7  1991\n",
       "3            1           2  2002\n",
       "4            1           8  1997"
      ]
     },
     "execution_count": 44,
     "metadata": {},
     "output_type": "execute_result"
    }
   ],
   "source": [
    "# create economy_df\n",
    "natural_disasters_df = pd.DataFrame(columns = ['gazetteerId', 'categoryId', 'year'])\n",
    "years_heading = list(df.columns)[3:25]\n",
    "dic_for_natural_disasters_df = {'gazetteerId':[], 'categoryId':[], 'year':[]}\n",
    "\n",
    "\n",
    "# Process data for recorded year\n",
    "for i in range(len(df)):# each row\n",
    "    for year in years_heading: # recorded years\n",
    "        if df.iloc[i][year] != \"NULL\":\n",
    "            dic_for_natural_disasters_df['gazetteerId'].append(df.iloc[i]['村志代码 Gazetteer Code'])\n",
    "            dic_for_natural_disasters_df['categoryId'].append(df.iloc[i]['categoryId'])\n",
    "            dic_for_natural_disasters_df['year'].append(df.iloc[i][year])\n",
    "\n",
    "# store data in new df\n",
    "for attribute in natural_disasters_df.columns:\n",
    "    natural_disasters_df[attribute] = dic_for_natural_disasters_df[attribute]\n",
    "    \n",
    "\n",
    "natural_disasters_df.head()"
   ]
  },
  {
   "cell_type": "code",
   "execution_count": 48,
   "metadata": {},
   "outputs": [
    {
     "data": {
      "text/plain": [
       "19"
      ]
     },
     "execution_count": 48,
     "metadata": {},
     "output_type": "execute_result"
    }
   ],
   "source": [
    "# create economyCategory_df\n",
    "category_df = pd.DataFrame(columns = ['id', 'name', 'parentId'])\n",
    "dic_for_category_df = {'id':[], 'name':[], 'parentId':[]}\n",
    "\n",
    "for category in dic_category_id:\n",
    "    child_parent = category.split('__', 1)\n",
    "    name = child_parent[0]\n",
    "    if len(child_parent) == 1:\n",
    "        dic_for_category_df['id'].append(dic_category_id[category])\n",
    "        dic_for_category_df['name'].append(name)\n",
    "        dic_for_category_df['parentId'].append(\"NULL\")\n",
    "    else:\n",
    "        parentId = dic_category_id[child_parent[1]]\n",
    "        dic_for_category_df['id'].append(dic_category_id[category])\n",
    "        dic_for_category_df['name'].append(name)\n",
    "        dic_for_category_df['parentId'].append(parentId)\n",
    "        \n",
    "for attribute in category_df.columns:\n",
    "    category_df[attribute] = dic_for_category_df[attribute]\n",
    "len(category_df)"
   ]
  },
  {
   "cell_type": "code",
   "execution_count": 49,
   "metadata": {},
   "outputs": [
    {
     "data": {
      "text/html": [
       "<div>\n",
       "<style scoped>\n",
       "    .dataframe tbody tr th:only-of-type {\n",
       "        vertical-align: middle;\n",
       "    }\n",
       "\n",
       "    .dataframe tbody tr th {\n",
       "        vertical-align: top;\n",
       "    }\n",
       "\n",
       "    .dataframe thead th {\n",
       "        text-align: right;\n",
       "    }\n",
       "</style>\n",
       "<table border=\"1\" class=\"dataframe\">\n",
       "  <thead>\n",
       "    <tr style=\"text-align: right;\">\n",
       "      <th></th>\n",
       "      <th>id</th>\n",
       "      <th>name</th>\n",
       "      <th>parentId</th>\n",
       "    </tr>\n",
       "  </thead>\n",
       "  <tbody>\n",
       "    <tr>\n",
       "      <th>0</th>\n",
       "      <td>1</td>\n",
       "      <td>冰凌 Icestorm</td>\n",
       "      <td>NULL</td>\n",
       "    </tr>\n",
       "    <tr>\n",
       "      <th>1</th>\n",
       "      <td>2</td>\n",
       "      <td>冰雹 Hailstorm</td>\n",
       "      <td>NULL</td>\n",
       "    </tr>\n",
       "    <tr>\n",
       "      <th>2</th>\n",
       "      <td>3</td>\n",
       "      <td>台风 Typhoon</td>\n",
       "      <td>NULL</td>\n",
       "    </tr>\n",
       "    <tr>\n",
       "      <th>3</th>\n",
       "      <td>4</td>\n",
       "      <td>地震 Earthquake</td>\n",
       "      <td>NULL</td>\n",
       "    </tr>\n",
       "    <tr>\n",
       "      <th>4</th>\n",
       "      <td>5</td>\n",
       "      <td>寒潮 Cold Wave</td>\n",
       "      <td>NULL</td>\n",
       "    </tr>\n",
       "  </tbody>\n",
       "</table>\n",
       "</div>"
      ],
      "text/plain": [
       "   id           name parentId\n",
       "0   1    冰凌 Icestorm     NULL\n",
       "1   2   冰雹 Hailstorm     NULL\n",
       "2   3     台风 Typhoon     NULL\n",
       "3   4  地震 Earthquake     NULL\n",
       "4   5   寒潮 Cold Wave     NULL"
      ]
     },
     "execution_count": 49,
     "metadata": {},
     "output_type": "execute_result"
    }
   ],
   "source": [
    "category_df.head()"
   ]
  },
  {
   "cell_type": "code",
   "execution_count": 26,
   "metadata": {},
   "outputs": [],
   "source": [
    "natural_disasters_df.to_csv('natural_disasters_df.csv', index = False, na_rep = \"NULL\")"
   ]
  },
  {
   "cell_type": "code",
   "execution_count": 27,
   "metadata": {},
   "outputs": [],
   "source": [
    "naturalDisastersCategory_df.to_csv('naturalDisastersCategory_df.csv', index = False, na_rep = \"NULL\")"
   ]
  },
  {
   "cell_type": "code",
   "execution_count": null,
   "metadata": {},
   "outputs": [],
   "source": []
  },
  {
   "cell_type": "code",
   "execution_count": null,
   "metadata": {},
   "outputs": [],
   "source": []
  },
  {
   "cell_type": "code",
   "execution_count": 16,
   "metadata": {},
   "outputs": [],
   "source": []
  },
  {
   "cell_type": "code",
   "execution_count": 17,
   "metadata": {},
   "outputs": [],
   "source": []
  },
  {
   "cell_type": "code",
   "execution_count": 45,
   "metadata": {},
   "outputs": [],
   "source": []
  },
  {
   "cell_type": "code",
   "execution_count": null,
   "metadata": {},
   "outputs": [],
   "source": []
  },
  {
   "cell_type": "code",
   "execution_count": null,
   "metadata": {},
   "outputs": [],
   "source": []
  },
  {
   "cell_type": "code",
   "execution_count": null,
   "metadata": {},
   "outputs": [],
   "source": []
  },
  {
   "cell_type": "code",
   "execution_count": null,
   "metadata": {},
   "outputs": [],
   "source": []
  },
  {
   "cell_type": "code",
   "execution_count": null,
   "metadata": {},
   "outputs": [],
   "source": []
  },
  {
   "cell_type": "code",
   "execution_count": null,
   "metadata": {},
   "outputs": [],
   "source": []
  },
  {
   "cell_type": "code",
   "execution_count": null,
   "metadata": {},
   "outputs": [],
   "source": []
  },
  {
   "cell_type": "code",
   "execution_count": null,
   "metadata": {},
   "outputs": [],
   "source": []
  },
  {
   "cell_type": "code",
   "execution_count": null,
   "metadata": {},
   "outputs": [],
   "source": []
  },
  {
   "cell_type": "code",
   "execution_count": null,
   "metadata": {},
   "outputs": [],
   "source": []
  },
  {
   "cell_type": "code",
   "execution_count": null,
   "metadata": {},
   "outputs": [],
   "source": []
  },
  {
   "cell_type": "code",
   "execution_count": null,
   "metadata": {},
   "outputs": [],
   "source": []
  },
  {
   "cell_type": "code",
   "execution_count": null,
   "metadata": {},
   "outputs": [],
   "source": []
  },
  {
   "cell_type": "code",
   "execution_count": null,
   "metadata": {},
   "outputs": [],
   "source": []
  },
  {
   "cell_type": "code",
   "execution_count": null,
   "metadata": {},
   "outputs": [],
   "source": []
  },
  {
   "cell_type": "code",
   "execution_count": null,
   "metadata": {},
   "outputs": [],
   "source": []
  },
  {
   "cell_type": "code",
   "execution_count": null,
   "metadata": {},
   "outputs": [],
   "source": []
  },
  {
   "cell_type": "code",
   "execution_count": null,
   "metadata": {},
   "outputs": [],
   "source": []
  },
  {
   "cell_type": "code",
   "execution_count": null,
   "metadata": {},
   "outputs": [],
   "source": []
  },
  {
   "cell_type": "code",
   "execution_count": null,
   "metadata": {},
   "outputs": [],
   "source": []
  },
  {
   "cell_type": "code",
   "execution_count": null,
   "metadata": {},
   "outputs": [],
   "source": []
  },
  {
   "cell_type": "code",
   "execution_count": null,
   "metadata": {},
   "outputs": [],
   "source": []
  },
  {
   "cell_type": "code",
   "execution_count": null,
   "metadata": {},
   "outputs": [],
   "source": []
  },
  {
   "cell_type": "code",
   "execution_count": null,
   "metadata": {},
   "outputs": [],
   "source": []
  },
  {
   "cell_type": "code",
   "execution_count": null,
   "metadata": {},
   "outputs": [],
   "source": []
  }
 ],
 "metadata": {
  "kernelspec": {
   "display_name": "Python 3",
   "language": "python",
   "name": "python3"
  },
  "language_info": {
   "codemirror_mode": {
    "name": "ipython",
    "version": 3
   },
   "file_extension": ".py",
   "mimetype": "text/x-python",
   "name": "python",
   "nbconvert_exporter": "python",
   "pygments_lexer": "ipython3",
   "version": "3.7.3"
  }
 },
 "nbformat": 4,
 "nbformat_minor": 2
}
