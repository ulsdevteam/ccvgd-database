{
 "cells": [
  {
   "cell_type": "code",
   "execution_count": 1,
   "metadata": {},
   "outputs": [],
   "source": [
    "import pandas as pd\n",
    "import numpy as np\n",
    "import math\n",
    "import os\n",
    "\n",
    "def printCategory(category_dict):\n",
    "    for category in category_dict:\n",
    "        print(category)\n",
    "        if category_dict[category] is not None:\n",
    "            sub_dic = category_dict[category]\n",
    "            printCategory(sub_dic)\n",
    "            \n",
    "def createLevelColumns(df, levels, new_columns):\n",
    "    for i in range(len(df)):\n",
    "        \n",
    "        df_level1, df_level2 = \"NULL\",\"NULL\"\n",
    "        \n",
    "        df_level1, nextLevels = findNotNullLevel(df, i, levels)\n",
    "        if nextLevels is not None:\n",
    "            df_level2, nextLevels = findNotNullLevel(df, i, nextLevels)\n",
    "        \n",
    "        most_specific_category = \"NULL\"\n",
    "        \n",
    "        if df_level2 != \"NULL\":\n",
    "            df_level2 = df_level2 + \"__\" + df_level1\n",
    "        \n",
    "        if df_level2 != \"NULL\":\n",
    "            most_specific_category = df_level2\n",
    "        elif df_level1 != \"NULL\":\n",
    "            most_specific_category = df_level1\n",
    "        \n",
    "        df.iloc[i, df.columns.get_loc('level1')] = df_level1\n",
    "        df.iloc[i, df.columns.get_loc('level2')] = df_level2\n",
    "        df.iloc[i, df.columns.get_loc('mostSpecificCategory')] = most_specific_category\n",
    "        \n",
    "def findNotNullLevel(df, i, levels):\n",
    "    for level in levels:\n",
    "        if df.iloc[i][level] == \"NULL\":\n",
    "            continue\n",
    "        else:\n",
    "            return df.iloc[i][level], levels[level]\n",
    "    return \"NULL\", None\n",
    "\n",
    "def unionTwoLists(list1, list2):\n",
    "    for category in list1:\n",
    "        if category not in list2:\n",
    "            list2.append(category)\n",
    "    return list2\n",
    "\n",
    "def checkNULL(checked_list):\n",
    "    for item in checked_list:\n",
    "        if item == \"NULL\":\n",
    "            print(\"Contains NULL\")\n",
    "            return\n",
    "    print(\"Not contains NULL\")\n",
    "\n",
    "def create_name_id_dictionary(name_list):\n",
    "    count = 1\n",
    "    dic_name_id = {}\n",
    "    for name in name_list:\n",
    "        if name not in dic_name_id and name != \"NULL\":\n",
    "            dic_name_id[name] = count\n",
    "            count = count + 1\n",
    "    return dic_name_id"
   ]
  },
  {
   "cell_type": "markdown",
   "metadata": {},
   "source": []
  },
  {
   "cell_type": "code",
   "execution_count": 3,
   "metadata": {},
   "outputs": [
    {
     "name": "stdout",
     "output_type": "stream",
     "text": [
      "Index(['村志代码 Gazetteer Code', '村志书名 Gazetteer Title',\n",
      "       '姓氏总数 Total Number of Last Names in Village', 'name1', 'name2', 'name3',\n",
      "       'name4', 'name5', 'pinyin1', 'pinyin2', 'pinyin3', 'pinyin4',\n",
      "       'pinyin5'],\n",
      "      dtype='object')\n"
     ]
    },
    {
     "data": {
      "text/html": [
       "<div>\n",
       "<style scoped>\n",
       "    .dataframe tbody tr th:only-of-type {\n",
       "        vertical-align: middle;\n",
       "    }\n",
       "\n",
       "    .dataframe tbody tr th {\n",
       "        vertical-align: top;\n",
       "    }\n",
       "\n",
       "    .dataframe thead th {\n",
       "        text-align: right;\n",
       "    }\n",
       "</style>\n",
       "<table border=\"1\" class=\"dataframe\">\n",
       "  <thead>\n",
       "    <tr style=\"text-align: right;\">\n",
       "      <th></th>\n",
       "      <th>村志代码 Gazetteer Code</th>\n",
       "      <th>村志书名 Gazetteer Title</th>\n",
       "      <th>姓氏总数 Total Number of Last Names in Village</th>\n",
       "      <th>name1</th>\n",
       "      <th>name2</th>\n",
       "      <th>name3</th>\n",
       "      <th>name4</th>\n",
       "      <th>name5</th>\n",
       "      <th>pinyin1</th>\n",
       "      <th>pinyin2</th>\n",
       "      <th>pinyin3</th>\n",
       "      <th>pinyin4</th>\n",
       "      <th>pinyin5</th>\n",
       "    </tr>\n",
       "  </thead>\n",
       "  <tbody>\n",
       "    <tr>\n",
       "      <th>0</th>\n",
       "      <td>1</td>\n",
       "      <td>太平店村志</td>\n",
       "      <td>17</td>\n",
       "      <td>马</td>\n",
       "      <td>范</td>\n",
       "      <td>李</td>\n",
       "      <td>梁</td>\n",
       "      <td>姚</td>\n",
       "      <td>Ma</td>\n",
       "      <td>Fan</td>\n",
       "      <td>Li</td>\n",
       "      <td>Liang</td>\n",
       "      <td>Yao</td>\n",
       "    </tr>\n",
       "    <tr>\n",
       "      <th>1</th>\n",
       "      <td>2</td>\n",
       "      <td>叶店村志</td>\n",
       "      <td>45</td>\n",
       "      <td>叶</td>\n",
       "      <td>邓</td>\n",
       "      <td>杨</td>\n",
       "      <td>陈</td>\n",
       "      <td>梅</td>\n",
       "      <td>Ye</td>\n",
       "      <td>Deng</td>\n",
       "      <td>Yang</td>\n",
       "      <td>Chen</td>\n",
       "      <td>Mei</td>\n",
       "    </tr>\n",
       "    <tr>\n",
       "      <th>2</th>\n",
       "      <td>3</td>\n",
       "      <td>马鞭田村志</td>\n",
       "      <td>59</td>\n",
       "      <td>张</td>\n",
       "      <td>陈</td>\n",
       "      <td>杨</td>\n",
       "      <td>杜</td>\n",
       "      <td>王</td>\n",
       "      <td>Zhang</td>\n",
       "      <td>Chen</td>\n",
       "      <td>Yang</td>\n",
       "      <td>Du</td>\n",
       "      <td>Wang</td>\n",
       "    </tr>\n",
       "    <tr>\n",
       "      <th>3</th>\n",
       "      <td>4</td>\n",
       "      <td>万秀村志</td>\n",
       "      <td>117</td>\n",
       "      <td>邓</td>\n",
       "      <td>陈</td>\n",
       "      <td>黄</td>\n",
       "      <td>梁</td>\n",
       "      <td>林</td>\n",
       "      <td>Deng</td>\n",
       "      <td>Chen</td>\n",
       "      <td>Huang</td>\n",
       "      <td>Liang</td>\n",
       "      <td>Lin</td>\n",
       "    </tr>\n",
       "    <tr>\n",
       "      <th>4</th>\n",
       "      <td>5</td>\n",
       "      <td>光淀村志</td>\n",
       "      <td>26</td>\n",
       "      <td>NULL</td>\n",
       "      <td>NULL</td>\n",
       "      <td>NULL</td>\n",
       "      <td>NULL</td>\n",
       "      <td>NULL</td>\n",
       "      <td>NULL</td>\n",
       "      <td>NULL</td>\n",
       "      <td>NULL</td>\n",
       "      <td>NULL</td>\n",
       "      <td>NULL</td>\n",
       "    </tr>\n",
       "  </tbody>\n",
       "</table>\n",
       "</div>"
      ],
      "text/plain": [
       "   村志代码 Gazetteer Code 村志书名 Gazetteer Title  \\\n",
       "0                    1                太平店村志   \n",
       "1                    2                 叶店村志   \n",
       "2                    3                马鞭田村志   \n",
       "3                    4                 万秀村志   \n",
       "4                    5                 光淀村志   \n",
       "\n",
       "  姓氏总数 Total Number of Last Names in Village name1 name2 name3 name4 name5  \\\n",
       "0                                         17     马     范     李     梁     姚   \n",
       "1                                         45     叶     邓     杨     陈     梅   \n",
       "2                                         59     张     陈     杨     杜     王   \n",
       "3                                        117     邓     陈     黄     梁     林   \n",
       "4                                         26  NULL  NULL  NULL  NULL  NULL   \n",
       "\n",
       "  pinyin1 pinyin2 pinyin3 pinyin4 pinyin5  \n",
       "0      Ma     Fan      Li   Liang     Yao  \n",
       "1      Ye    Deng    Yang    Chen     Mei  \n",
       "2   Zhang    Chen    Yang      Du    Wang  \n",
       "3    Deng    Chen   Huang   Liang     Lin  \n",
       "4    NULL    NULL    NULL    NULL    NULL  "
      ]
     },
     "execution_count": 3,
     "metadata": {},
     "output_type": "execute_result"
    }
   ],
   "source": [
    "path = os.path.abspath(os.getcwd())\n",
    "df = pd.read_csv(path + \"/Data2/Last Names.csv\")\n",
    "df = df.dropna(axis = 0, how = 'all')\n",
    "df = df.where(df.notnull(), \"NULL\")\n",
    "print(df.columns)\n",
    "df.head()"
   ]
  },
  {
   "cell_type": "code",
   "execution_count": 5,
   "metadata": {},
   "outputs": [
    {
     "data": {
      "text/plain": [
       "['name1', 'name2', 'name3', 'name4', 'name5']"
      ]
     },
     "execution_count": 5,
     "metadata": {},
     "output_type": "execute_result"
    }
   ],
   "source": [
    "# {'马': {'id': 1, 'pinyin':'Ma'}, '李': ...}\n",
    "name_pingying_id = {}\n",
    "count = 1\n",
    "name_heading = list(df.columns)[3:8]\n",
    "pinyin_heading = list(df.columns)[8:13]\n",
    "for i in range(len(df)):\n",
    "    for j in range(len(name_heading)):\n",
    "        name = df[name_heading[j]][i]\n",
    "        pinyin = df[pinyin_heading[j]][i]\n",
    "        if name not in name_pingying_id:\n",
    "            name_pingying_id[name]['id'] = count\n",
    "            name_pingying_id[name]['pinyin'] = pinyin\n",
    "            count = count + 1\n",
    "\n",
    "df_last_name = pd.DataFrame(columns = ['gazetteerId', 'totalNumber', 'firstNameId', 'secondNameId', 'thirdNameId', 'fourthNameId','fifthNameId'])\n",
    "dic_last_name = {'gazetteerId':[], 'totalNumber':[] 'firstNameId':[], 'secondNameId':[], 'thirdNameId':[], 'fourthNameId':[], 'fifthNameId':[]}\n",
    "\n",
    "\n",
    "\n"
   ]
  },
  {
   "cell_type": "code",
   "execution_count": 56,
   "metadata": {},
   "outputs": [
    {
     "name": "stdout",
     "output_type": "stream",
     "text": [
      "{'海拔 (米) Altitude': 1, '平均降水量 Average Yearly Precipitation Amount': 2, '平均温度 Average Yearly Temperature': 3}\n",
      "{'米 meter': 1, '毫米 millimeter': 2, '没有相关数据 No Available Data': 3, '°C': 4}\n"
     ]
    }
   ],
   "source": [
    "def create_name_id_dictionary(name_list):\n",
    "    count = 1\n",
    "    dic_name_id = {}\n",
    "    for name in name_list:\n",
    "        if name not in dic_name_id and name != \"NULL\":\n",
    "            dic_name_id[name] = count\n",
    "            count = count + 1\n",
    "    return dic_name_id\n",
    "\n",
    "# create dict \"dic_category_id\" store { category_name : id}\n",
    "total_categories = ['海拔 (米) Altitude', '平均降水量 Average Yearly Precipitation Amount', '平均温度 Average Yearly Temperature']\n",
    "dic_category_id = create_name_id_dictionary(total_categories)\n",
    "\n",
    "# create dict \"dic_unit_id\" store { unit_name : id}\n",
    "unit_list = [cat for cat in df_total['unit'].astype('category').unique()]\n",
    "dic_unit_id = create_name_id_dictionary(unit_list)\n",
    "\n",
    "print(dic_category_id)\n",
    "print(dic_unit_id)"
   ]
  },
  {
   "cell_type": "code",
   "execution_count": 57,
   "metadata": {},
   "outputs": [
    {
     "data": {
      "text/html": [
       "<div>\n",
       "<style scoped>\n",
       "    .dataframe tbody tr th:only-of-type {\n",
       "        vertical-align: middle;\n",
       "    }\n",
       "\n",
       "    .dataframe tbody tr th {\n",
       "        vertical-align: top;\n",
       "    }\n",
       "\n",
       "    .dataframe thead th {\n",
       "        text-align: right;\n",
       "    }\n",
       "</style>\n",
       "<table border=\"1\" class=\"dataframe\">\n",
       "  <thead>\n",
       "    <tr style=\"text-align: right;\">\n",
       "      <th></th>\n",
       "      <th>gazetteerId</th>\n",
       "      <th>category</th>\n",
       "      <th>data</th>\n",
       "      <th>unitId</th>\n",
       "    </tr>\n",
       "  </thead>\n",
       "  <tbody>\n",
       "    <tr>\n",
       "      <th>0</th>\n",
       "      <td>1</td>\n",
       "      <td>1</td>\n",
       "      <td>NULL</td>\n",
       "      <td>1</td>\n",
       "    </tr>\n",
       "    <tr>\n",
       "      <th>1</th>\n",
       "      <td>3</td>\n",
       "      <td>1</td>\n",
       "      <td>1225</td>\n",
       "      <td>1</td>\n",
       "    </tr>\n",
       "    <tr>\n",
       "      <th>2</th>\n",
       "      <td>4</td>\n",
       "      <td>1</td>\n",
       "      <td>NULL</td>\n",
       "      <td>1</td>\n",
       "    </tr>\n",
       "    <tr>\n",
       "      <th>3</th>\n",
       "      <td>5</td>\n",
       "      <td>1</td>\n",
       "      <td>NULL</td>\n",
       "      <td>1</td>\n",
       "    </tr>\n",
       "    <tr>\n",
       "      <th>4</th>\n",
       "      <td>6</td>\n",
       "      <td>1</td>\n",
       "      <td>61</td>\n",
       "      <td>1</td>\n",
       "    </tr>\n",
       "  </tbody>\n",
       "</table>\n",
       "</div>"
      ],
      "text/plain": [
       "   gazetteerId  category  data  unitId\n",
       "0            1         1  NULL       1\n",
       "1            3         1  1225       1\n",
       "2            4         1  NULL       1\n",
       "3            5         1  NULL       1\n",
       "4            6         1    61       1"
      ]
     },
     "execution_count": 57,
     "metadata": {},
     "output_type": "execute_result"
    }
   ],
   "source": [
    "for category in dic_category_id:\n",
    "    df_total = df_total.replace(category, dic_category_id[category])\n",
    "    \n",
    "for unit in dic_unit_id:\n",
    "    df_total = df_total.replace(unit, dic_unit_id[unit])\n",
    "\n",
    "# create natural_environment_df\n",
    "natural_environment_df = df_total.copy()\n",
    "natural_environment_df.columns = columns = ['gazetteerId', 'category', 'data', 'unitId']\n",
    "natural_environment_df.head()"
   ]
  },
  {
   "cell_type": "code",
   "execution_count": 58,
   "metadata": {},
   "outputs": [
    {
     "data": {
      "text/html": [
       "<div>\n",
       "<style scoped>\n",
       "    .dataframe tbody tr th:only-of-type {\n",
       "        vertical-align: middle;\n",
       "    }\n",
       "\n",
       "    .dataframe tbody tr th {\n",
       "        vertical-align: top;\n",
       "    }\n",
       "\n",
       "    .dataframe thead th {\n",
       "        text-align: right;\n",
       "    }\n",
       "</style>\n",
       "<table border=\"1\" class=\"dataframe\">\n",
       "  <thead>\n",
       "    <tr style=\"text-align: right;\">\n",
       "      <th></th>\n",
       "      <th>id</th>\n",
       "      <th>name</th>\n",
       "      <th>parentId</th>\n",
       "    </tr>\n",
       "  </thead>\n",
       "  <tbody>\n",
       "    <tr>\n",
       "      <th>0</th>\n",
       "      <td>1</td>\n",
       "      <td>海拔 (米) Altitude</td>\n",
       "      <td>NULL</td>\n",
       "    </tr>\n",
       "    <tr>\n",
       "      <th>1</th>\n",
       "      <td>2</td>\n",
       "      <td>平均降水量 Average Yearly Precipitation Amount</td>\n",
       "      <td>NULL</td>\n",
       "    </tr>\n",
       "    <tr>\n",
       "      <th>2</th>\n",
       "      <td>3</td>\n",
       "      <td>平均温度 Average Yearly Temperature</td>\n",
       "      <td>NULL</td>\n",
       "    </tr>\n",
       "  </tbody>\n",
       "</table>\n",
       "</div>"
      ],
      "text/plain": [
       "   id                                       name parentId\n",
       "0   1                            海拔 (米) Altitude     NULL\n",
       "1   2  平均降水量 Average Yearly Precipitation Amount     NULL\n",
       "2   3            平均温度 Average Yearly Temperature     NULL"
      ]
     },
     "execution_count": 58,
     "metadata": {},
     "output_type": "execute_result"
    }
   ],
   "source": [
    "# create economyCategory_df\n",
    "category_df = pd.DataFrame(columns = ['id', 'name', 'parentId'])\n",
    "dic_for_category_df = {'id':[], 'name':[], 'parentId':[]}\n",
    "\n",
    "for category in dic_category_id:\n",
    "    child_parent = category.split('__', 1)\n",
    "    name = child_parent[0]\n",
    "    if len(child_parent) == 1:\n",
    "        dic_for_category_df['id'].append(dic_category_id[category])\n",
    "        dic_for_category_df['name'].append(name)\n",
    "        dic_for_category_df['parentId'].append(\"NULL\")\n",
    "    else:\n",
    "        parentId = dic_category_id[child_parent[1]]\n",
    "        dic_for_category_df['id'].append(dic_category_id[category])\n",
    "        dic_for_category_df['name'].append(name)\n",
    "        dic_for_category_df['parentId'].append(parentId)\n",
    "        \n",
    "for attribute in category_df.columns:\n",
    "    category_df[attribute] = dic_for_category_df[attribute]\n",
    "\n",
    "category_df.head()"
   ]
  },
  {
   "cell_type": "code",
   "execution_count": 59,
   "metadata": {},
   "outputs": [
    {
     "data": {
      "text/html": [
       "<div>\n",
       "<style scoped>\n",
       "    .dataframe tbody tr th:only-of-type {\n",
       "        vertical-align: middle;\n",
       "    }\n",
       "\n",
       "    .dataframe tbody tr th {\n",
       "        vertical-align: top;\n",
       "    }\n",
       "\n",
       "    .dataframe thead th {\n",
       "        text-align: right;\n",
       "    }\n",
       "</style>\n",
       "<table border=\"1\" class=\"dataframe\">\n",
       "  <thead>\n",
       "    <tr style=\"text-align: right;\">\n",
       "      <th></th>\n",
       "      <th>id</th>\n",
       "      <th>name</th>\n",
       "    </tr>\n",
       "  </thead>\n",
       "  <tbody>\n",
       "    <tr>\n",
       "      <th>0</th>\n",
       "      <td>1</td>\n",
       "      <td>米 meter</td>\n",
       "    </tr>\n",
       "    <tr>\n",
       "      <th>1</th>\n",
       "      <td>2</td>\n",
       "      <td>毫米 millimeter</td>\n",
       "    </tr>\n",
       "    <tr>\n",
       "      <th>2</th>\n",
       "      <td>3</td>\n",
       "      <td>没有相关数据 No Available Data</td>\n",
       "    </tr>\n",
       "    <tr>\n",
       "      <th>3</th>\n",
       "      <td>4</td>\n",
       "      <td>°C</td>\n",
       "    </tr>\n",
       "  </tbody>\n",
       "</table>\n",
       "</div>"
      ],
      "text/plain": [
       "   id                      name\n",
       "0   1                   米 meter\n",
       "1   2             毫米 millimeter\n",
       "2   3  没有相关数据 No Available Data\n",
       "3   4                        °C"
      ]
     },
     "execution_count": 59,
     "metadata": {},
     "output_type": "execute_result"
    }
   ],
   "source": [
    "dic_unit_df = {'id':[], 'name':[]}\n",
    "\n",
    "for unit in dic_unit_id:\n",
    "    dic_unit_df['name'].append(unit)\n",
    "    dic_unit_df['id'].append(dic_unit_id[unit])\n",
    "    \n",
    "unit_id_df = pd.DataFrame(dic_unit_df,columns = ['id', 'name'])\n",
    "unit_id_df.head()"
   ]
  },
  {
   "cell_type": "code",
   "execution_count": 60,
   "metadata": {},
   "outputs": [],
   "source": [
    "unit_id_df.to_csv('natural_env_unit_df.csv',index = False, na_rep = \"NULL\")"
   ]
  },
  {
   "cell_type": "code",
   "execution_count": 61,
   "metadata": {},
   "outputs": [],
   "source": [
    "natural_environment_df.to_csv('natural_env_df.csv', index = False, na_rep = \"NULL\")"
   ]
  },
  {
   "cell_type": "code",
   "execution_count": 62,
   "metadata": {},
   "outputs": [],
   "source": [
    "category_df.to_csv('natural_env_category_df.csv', index = False, na_rep = \"NULL\")"
   ]
  },
  {
   "cell_type": "code",
   "execution_count": null,
   "metadata": {},
   "outputs": [],
   "source": []
  },
  {
   "cell_type": "code",
   "execution_count": null,
   "metadata": {},
   "outputs": [],
   "source": []
  },
  {
   "cell_type": "code",
   "execution_count": null,
   "metadata": {},
   "outputs": [],
   "source": []
  },
  {
   "cell_type": "code",
   "execution_count": null,
   "metadata": {},
   "outputs": [],
   "source": []
  },
  {
   "cell_type": "code",
   "execution_count": null,
   "metadata": {},
   "outputs": [],
   "source": []
  },
  {
   "cell_type": "code",
   "execution_count": null,
   "metadata": {},
   "outputs": [],
   "source": []
  },
  {
   "cell_type": "code",
   "execution_count": null,
   "metadata": {},
   "outputs": [],
   "source": []
  },
  {
   "cell_type": "code",
   "execution_count": null,
   "metadata": {},
   "outputs": [],
   "source": []
  },
  {
   "cell_type": "code",
   "execution_count": null,
   "metadata": {},
   "outputs": [],
   "source": []
  },
  {
   "cell_type": "code",
   "execution_count": null,
   "metadata": {},
   "outputs": [],
   "source": []
  },
  {
   "cell_type": "code",
   "execution_count": null,
   "metadata": {},
   "outputs": [],
   "source": []
  },
  {
   "cell_type": "code",
   "execution_count": null,
   "metadata": {},
   "outputs": [],
   "source": []
  },
  {
   "cell_type": "code",
   "execution_count": null,
   "metadata": {},
   "outputs": [],
   "source": []
  },
  {
   "cell_type": "code",
   "execution_count": null,
   "metadata": {},
   "outputs": [],
   "source": []
  },
  {
   "cell_type": "code",
   "execution_count": null,
   "metadata": {},
   "outputs": [],
   "source": []
  },
  {
   "cell_type": "code",
   "execution_count": null,
   "metadata": {},
   "outputs": [],
   "source": []
  },
  {
   "cell_type": "code",
   "execution_count": null,
   "metadata": {},
   "outputs": [],
   "source": []
  },
  {
   "cell_type": "code",
   "execution_count": null,
   "metadata": {},
   "outputs": [],
   "source": []
  },
  {
   "cell_type": "code",
   "execution_count": null,
   "metadata": {},
   "outputs": [],
   "source": []
  },
  {
   "cell_type": "code",
   "execution_count": null,
   "metadata": {},
   "outputs": [],
   "source": []
  },
  {
   "cell_type": "code",
   "execution_count": null,
   "metadata": {},
   "outputs": [],
   "source": []
  },
  {
   "cell_type": "code",
   "execution_count": null,
   "metadata": {},
   "outputs": [],
   "source": []
  },
  {
   "cell_type": "code",
   "execution_count": null,
   "metadata": {},
   "outputs": [],
   "source": []
  },
  {
   "cell_type": "code",
   "execution_count": null,
   "metadata": {},
   "outputs": [],
   "source": []
  },
  {
   "cell_type": "code",
   "execution_count": null,
   "metadata": {},
   "outputs": [],
   "source": []
  },
  {
   "cell_type": "code",
   "execution_count": null,
   "metadata": {},
   "outputs": [],
   "source": []
  },
  {
   "cell_type": "code",
   "execution_count": null,
   "metadata": {},
   "outputs": [],
   "source": []
  },
  {
   "cell_type": "code",
   "execution_count": null,
   "metadata": {},
   "outputs": [],
   "source": []
  },
  {
   "cell_type": "code",
   "execution_count": null,
   "metadata": {},
   "outputs": [],
   "source": []
  },
  {
   "cell_type": "code",
   "execution_count": null,
   "metadata": {},
   "outputs": [],
   "source": []
  }
 ],
 "metadata": {
  "kernelspec": {
   "display_name": "Python 3",
   "language": "python",
   "name": "python3"
  },
  "language_info": {
   "codemirror_mode": {
    "name": "ipython",
    "version": 3
   },
   "file_extension": ".py",
   "mimetype": "text/x-python",
   "name": "python",
   "nbconvert_exporter": "python",
   "pygments_lexer": "ipython3",
   "version": "3.7.3"
  }
 },
 "nbformat": 4,
 "nbformat_minor": 2
}
