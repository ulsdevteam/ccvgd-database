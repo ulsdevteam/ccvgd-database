{
 "cells": [
  {
   "cell_type": "code",
   "execution_count": 1,
   "metadata": {},
   "outputs": [],
   "source": [
    "import pandas as pd\n",
    "import numpy as np\n",
    "import math\n",
    "import os"
   ]
  },
  {
   "cell_type": "code",
   "execution_count": 2,
   "metadata": {
    "scrolled": false
   },
   "outputs": [
    {
     "name": "stdout",
     "output_type": "stream",
     "text": [
      "Index(['村志代码 Gazetteer Code', '村志书名 Gazetteer Title', '民族 Ethnic Groups',\n",
      "       'Division1', '1949', '1950', '1951', '1952', '1953', '1954', '1955',\n",
      "       '1956', '1957', '1958', '1959', '1960', '1961', '1962', '1963', '1964',\n",
      "       '1965', '1966', '1967', '1968', '1969', '1970', '1971', '1972', '1973',\n",
      "       '1974', '1975', '1976', '1977', '1978', '1979', '1980', '1981', '1982',\n",
      "       '1983', '1984', '1985', '1986', '1987', '1988', '1989', '1990', '1991',\n",
      "       '1992', '1993', '1994', '1995', '1996', '1997', '1998', '1999', '2000',\n",
      "       '2001', '2002', '2003', '2004', '2005', '2006', '2007', '2008', '2009',\n",
      "       '2010', '2011', '2012', '2013', '2014', '2015', '2016', '2017', '2018',\n",
      "       '2019'],\n",
      "      dtype='object')\n",
      "Index(['村志代码 Gazetteer Code', '村志书名 Gazetteer Title', '民族 Ethnic Groups',\n",
      "       'Division1', 'Start Year', 'End Year', 'Data'],\n",
      "      dtype='object')\n"
     ]
    }
   ],
   "source": [
    "path = os.path.abspath(os.getcwd())\n",
    "df = pd.read_csv(path + \"/Data4/Ethnic Groups - Yearly.csv\")\n",
    "df2 = pd.read_csv(path + \"/Data4/Ethnic Groups - Range.csv\")\n",
    "\n",
    "# drop a row in df and df2 if all columns are null\n",
    "df = df.dropna(axis = 0, how = 'all')\n",
    "df.drop_duplicates(inplace = True)\n",
    "df2 = df2.dropna(axis = 0, how = 'all')\n",
    "df2.drop_duplicates(inplace = True)\n",
    "print(df.columns)\n",
    "print(df2.columns)"
   ]
  },
  {
   "cell_type": "code",
   "execution_count": 3,
   "metadata": {},
   "outputs": [],
   "source": [
    "categories = [\"汉族 Han\", \"壮族 Zhuang\" ,\"回族 Hui\", \"满族 Manchu\",\"维吾尔族 Uyghur\",\"苗族 Miao\",\"彝族 Yi\",\"土家族 Tujia\",\"藏族 Tibetan\",\"蒙古族 Mongolian\",\"侗族 Dong\",\"布依族 Bouyei\"\n",
    ",\"瑶族 Yao\",\"白族 Bai\",\"朝鲜族 Korean/Choson\",\"哈尼族 Ho /Hani\",\"黎族 Li\",\"哈萨克族 Kazakh\",\"傣族 Dai\",\"畲族 She\",\"傈僳族 Lisu\",\"东乡族 Dongxiang\",\"仡佬族 Gelao\"\n",
    ",\"拉祜族 Lahu\",\"佤族 Wa\",\"水族 Sui\",\"纳西族 Nakhi/Naxi\",\"羌族 Qiang\",\"土族 Tu\",\"仫佬族 Mulao\",\"锡伯族 Xibe\",\"柯尔克孜族 Kyrgyz\",\"景颇族 Jingpo\",\"达斡尔族 Daur\"\n",
    ",\"撒拉族 Salar\",\"布朗族 Blang\",\"毛南族 Maonan\",\"塔吉克族 Tajik\",\"普米族 Pumi\",\"阿昌族 Achang\",\"怒族 Nu\",\"鄂温克族 Evenki/Ewenki\" ,\"京族 Gin\",\"基诺族 Jino\"\n",
    ",\"德昂族 De'ang/Deang\",\"保安族 Bonan\",\"俄罗斯族 Russian\" ,\"裕固族 Yugur\",\"乌兹别克族 Uzbek\" ,\"门巴族 Monba\",\"鄂伦春族 Oroqen\" ,\"独龙族 Dereng\",\"赫哲族 Hezhen\"\n",
    ",\"高山族 Gaoshan\" ,\"珞巴族 Lhoba\",\"塔塔尔族 Tatar\", \"少数民族 (总) Ethnic Minorities (total)\"]\n"
   ]
  },
  {
   "cell_type": "code",
   "execution_count": 4,
   "metadata": {},
   "outputs": [],
   "source": [
    "def unionTwoLists(list1, list2):\n",
    "    for category in list1:\n",
    "        if category not in list2:\n",
    "            list2.append(category)\n",
    "    return list2\n",
    "\n",
    "# create ethnic(category column) id mapping\n",
    "count = 1\n",
    "category_id = {}\n",
    "for category in categories:\n",
    "    if category not in category_id:\n",
    "        category_id[category] = count\n",
    "        count = count + 1\n",
    "        \n",
    "# create unit(division column) mapping\n",
    "year_division1 = [unit for unit in df['Division1'].astype('category').unique()]\n",
    "range_division1 = [unit for unit in df2['Division1'].astype('category').unique()]\n",
    "division1 = unionTwoLists(year_division1, range_division1)"
   ]
  },
  {
   "cell_type": "code",
   "execution_count": 5,
   "metadata": {},
   "outputs": [],
   "source": [
    "# in yearly and range df relpace ethnic with id\n",
    "for category in category_id:\n",
    "    df = df.replace(category, category_id[category])\n",
    "    df2 = df2.replace(category, category_id[category])"
   ]
  },
  {
   "cell_type": "code",
   "execution_count": 6,
   "metadata": {},
   "outputs": [
    {
     "name": "stdout",
     "output_type": "stream",
     "text": [
      "[57, 1, 2, 13, 30, 4, 10, 6, 16, 3, 12, 14, 11, 8, 7, 17, 15, 29, 9, 31, 19, 37, 33, 27, 21, 24, 25, 26, 39, 36, 34, 28, 42, 35, 52, 20, 41, 40, 53, 5, 23, 51, 45, 43, 18]\n",
      "[1, 3, 4, 6, 15, 16, 12, 11, 2, 7, 8, 57, 10]\n"
     ]
    }
   ],
   "source": [
    "# check replace results\n",
    "df_replaced_category = [category for category in df['民族 Ethnic Groups'].astype('category').unique()]\n",
    "df2_replaced_category = [category for category in df2['民族 Ethnic Groups'].astype('category').unique()]\n",
    "print(df_replaced_category)\n",
    "print(df2_replaced_category)"
   ]
  },
  {
   "cell_type": "code",
   "execution_count": 24,
   "metadata": {},
   "outputs": [],
   "source": [
    "# create ethnic_df\n",
    "ethnic_df = pd.DataFrame(columns = ['gazetteerId', 'categoryId', 'startYear', 'endYear', 'unitId', 'data'])\n",
    "years = [str(i) for i in range(1949,2020)]\n",
    "dic_for_ethnic_df = {'gazetteerId':[], 'categoryId':[], 'startYear':[], 'endYear':[], 'unitId':[], 'data':[]}\n",
    "\n",
    "# Process yearly data\n",
    "for i in range(len(df)):# each row\n",
    "    for year in years: # 1949 - 2019\n",
    "#         if df.iloc[i][year] != \"NULL\":\n",
    "        dic_for_ethnic_df['gazetteerId'].append(df.iloc[i]['村志代码 Gazetteer Code'])\n",
    "        dic_for_ethnic_df['categoryId'].append(df.iloc[i]['民族 Ethnic Groups'])\n",
    "        dic_for_ethnic_df['unitId'].append(df.iloc[i]['Division1'])\n",
    "        dic_for_ethnic_df['startYear'].append(int(year))\n",
    "        dic_for_ethnic_df['endYear'].append(int(year))\n",
    "        dic_for_ethnic_df['data'].append(df.iloc[i][year])\n",
    "\n",
    "# Process range data\n",
    "for i in range(len(df2)):\n",
    "    dic_for_ethnic_df['gazetteerId'].append(df2.iloc[i]['村志代码 Gazetteer Code'])\n",
    "    dic_for_ethnic_df['categoryId'].append(df2.iloc[i]['民族 Ethnic Groups'])\n",
    "    dic_for_ethnic_df['unitId'].append(df2.iloc[i]['Division1'])\n",
    "    dic_for_ethnic_df['startYear'].append(df2.iloc[i]['Start Year'])\n",
    "    dic_for_ethnic_df['endYear'].append(df2.iloc[i]['End Year'])\n",
    "    dic_for_ethnic_df['data'].append(df2.iloc[i]['Data'])\n",
    "\n",
    "\n",
    "for attribute in ethnic_df.columns:\n",
    "    ethnic_df[attribute] = dic_for_ethnic_df[attribute]"
   ]
  },
  {
   "cell_type": "code",
   "execution_count": 25,
   "metadata": {},
   "outputs": [
    {
     "data": {
      "text/html": [
       "<div>\n",
       "<style scoped>\n",
       "    .dataframe tbody tr th:only-of-type {\n",
       "        vertical-align: middle;\n",
       "    }\n",
       "\n",
       "    .dataframe tbody tr th {\n",
       "        vertical-align: top;\n",
       "    }\n",
       "\n",
       "    .dataframe thead th {\n",
       "        text-align: right;\n",
       "    }\n",
       "</style>\n",
       "<table border=\"1\" class=\"dataframe\">\n",
       "  <thead>\n",
       "    <tr style=\"text-align: right;\">\n",
       "      <th></th>\n",
       "      <th>gazetteerId</th>\n",
       "      <th>categoryId</th>\n",
       "      <th>startYear</th>\n",
       "      <th>endYear</th>\n",
       "      <th>unitId</th>\n",
       "      <th>data</th>\n",
       "    </tr>\n",
       "  </thead>\n",
       "  <tbody>\n",
       "    <tr>\n",
       "      <th>0</th>\n",
       "      <td>3</td>\n",
       "      <td>57</td>\n",
       "      <td>1949</td>\n",
       "      <td>1949</td>\n",
       "      <td>人数 Number of People</td>\n",
       "      <td>NULL</td>\n",
       "    </tr>\n",
       "    <tr>\n",
       "      <th>1</th>\n",
       "      <td>3</td>\n",
       "      <td>57</td>\n",
       "      <td>1950</td>\n",
       "      <td>1950</td>\n",
       "      <td>人数 Number of People</td>\n",
       "      <td>NULL</td>\n",
       "    </tr>\n",
       "    <tr>\n",
       "      <th>2</th>\n",
       "      <td>3</td>\n",
       "      <td>57</td>\n",
       "      <td>1951</td>\n",
       "      <td>1951</td>\n",
       "      <td>人数 Number of People</td>\n",
       "      <td>NULL</td>\n",
       "    </tr>\n",
       "    <tr>\n",
       "      <th>3</th>\n",
       "      <td>3</td>\n",
       "      <td>57</td>\n",
       "      <td>1952</td>\n",
       "      <td>1952</td>\n",
       "      <td>人数 Number of People</td>\n",
       "      <td>NULL</td>\n",
       "    </tr>\n",
       "    <tr>\n",
       "      <th>4</th>\n",
       "      <td>3</td>\n",
       "      <td>57</td>\n",
       "      <td>1953</td>\n",
       "      <td>1953</td>\n",
       "      <td>人数 Number of People</td>\n",
       "      <td>NULL</td>\n",
       "    </tr>\n",
       "  </tbody>\n",
       "</table>\n",
       "</div>"
      ],
      "text/plain": [
       "   gazetteerId  categoryId  startYear  endYear               unitId  data\n",
       "0            3          57       1949     1949  人数 Number of People  NULL\n",
       "1            3          57       1950     1950  人数 Number of People  NULL\n",
       "2            3          57       1951     1951  人数 Number of People  NULL\n",
       "3            3          57       1952     1952  人数 Number of People  NULL\n",
       "4            3          57       1953     1953  人数 Number of People  NULL"
      ]
     },
     "execution_count": 25,
     "metadata": {},
     "output_type": "execute_result"
    }
   ],
   "source": [
    "ethnic_df = ethnic_df.where(ethnic_df.notnull(), \"NULL\")\n",
    "ethnic_df.head()"
   ]
  },
  {
   "cell_type": "code",
   "execution_count": 27,
   "metadata": {},
   "outputs": [],
   "source": [
    "# create dict \"unit_id\" stores {unit: id}\n",
    "unit_id = {}\n",
    "count = 1\n",
    "\n",
    "for unit in ethnic_df['unitId'].astype('category').unique():\n",
    "    if unit not in unit_id and unit:\n",
    "        unit_id[unit] = count\n",
    "        count = count + 1\n",
    "\n",
    "dic_unit_df = {'id':[], 'name':[]}\n",
    "for unit in unit_id:\n",
    "    dic_unit_df['id'].append(unit_id[unit])\n",
    "    dic_unit_df['name'].append(unit)\n",
    "    \n",
    "unit_df = pd.DataFrame(columns = ['id', 'name'])  \n",
    "for attribute in unit_df.columns:\n",
    "    unit_df[attribute] = dic_unit_df[attribute]\n",
    "    \n",
    "# replace unit with unit id\n",
    "for unit in unit_id:\n",
    "    ethnic_df = ethnic_df.replace(unit, unit_id[unit])"
   ]
  },
  {
   "cell_type": "code",
   "execution_count": 28,
   "metadata": {},
   "outputs": [
    {
     "data": {
      "text/html": [
       "<div>\n",
       "<style scoped>\n",
       "    .dataframe tbody tr th:only-of-type {\n",
       "        vertical-align: middle;\n",
       "    }\n",
       "\n",
       "    .dataframe tbody tr th {\n",
       "        vertical-align: top;\n",
       "    }\n",
       "\n",
       "    .dataframe thead th {\n",
       "        text-align: right;\n",
       "    }\n",
       "</style>\n",
       "<table border=\"1\" class=\"dataframe\">\n",
       "  <thead>\n",
       "    <tr style=\"text-align: right;\">\n",
       "      <th></th>\n",
       "      <th>gazetteerId</th>\n",
       "      <th>categoryId</th>\n",
       "      <th>startYear</th>\n",
       "      <th>endYear</th>\n",
       "      <th>unitId</th>\n",
       "      <th>data</th>\n",
       "    </tr>\n",
       "  </thead>\n",
       "  <tbody>\n",
       "    <tr>\n",
       "      <th>0</th>\n",
       "      <td>3</td>\n",
       "      <td>57</td>\n",
       "      <td>1949</td>\n",
       "      <td>1949</td>\n",
       "      <td>1</td>\n",
       "      <td>3.0</td>\n",
       "    </tr>\n",
       "    <tr>\n",
       "      <th>1</th>\n",
       "      <td>3</td>\n",
       "      <td>57</td>\n",
       "      <td>1950</td>\n",
       "      <td>1950</td>\n",
       "      <td>1</td>\n",
       "      <td>3.0</td>\n",
       "    </tr>\n",
       "    <tr>\n",
       "      <th>2</th>\n",
       "      <td>3</td>\n",
       "      <td>57</td>\n",
       "      <td>1951</td>\n",
       "      <td>1951</td>\n",
       "      <td>1</td>\n",
       "      <td>3.0</td>\n",
       "    </tr>\n",
       "    <tr>\n",
       "      <th>3</th>\n",
       "      <td>3</td>\n",
       "      <td>57</td>\n",
       "      <td>1952</td>\n",
       "      <td>1952</td>\n",
       "      <td>1</td>\n",
       "      <td>3.0</td>\n",
       "    </tr>\n",
       "    <tr>\n",
       "      <th>4</th>\n",
       "      <td>3</td>\n",
       "      <td>57</td>\n",
       "      <td>1953</td>\n",
       "      <td>1953</td>\n",
       "      <td>1</td>\n",
       "      <td>3.0</td>\n",
       "    </tr>\n",
       "  </tbody>\n",
       "</table>\n",
       "</div>"
      ],
      "text/plain": [
       "   gazetteerId  categoryId  startYear  endYear  unitId  data\n",
       "0            3          57       1949     1949       1   3.0\n",
       "1            3          57       1950     1950       1   3.0\n",
       "2            3          57       1951     1951       1   3.0\n",
       "3            3          57       1952     1952       1   3.0\n",
       "4            3          57       1953     1953       1   3.0"
      ]
     },
     "execution_count": 28,
     "metadata": {},
     "output_type": "execute_result"
    }
   ],
   "source": [
    "ethnic_df.head()"
   ]
  },
  {
   "cell_type": "code",
   "execution_count": 29,
   "metadata": {},
   "outputs": [],
   "source": [
    "# create ethnicCategory_df\n",
    "category_df = pd.DataFrame(columns = ['id', 'name', 'parentId'])\n",
    "dic_category_df = {'id':[], 'name':[], 'parentId':[]}\n",
    "\n",
    "for category in category_id:\n",
    "    dic_category_df['name'].append(category)\n",
    "    dic_category_df['id'].append(category_id[category])\n",
    "    dic_category_df['parentId'].append(\"NULL\")\n",
    "        \n",
    "for attribute in category_df.columns:\n",
    "    category_df[attribute] = dic_category_df[attribute]"
   ]
  },
  {
   "cell_type": "code",
   "execution_count": 30,
   "metadata": {},
   "outputs": [
    {
     "data": {
      "text/html": [
       "<div>\n",
       "<style scoped>\n",
       "    .dataframe tbody tr th:only-of-type {\n",
       "        vertical-align: middle;\n",
       "    }\n",
       "\n",
       "    .dataframe tbody tr th {\n",
       "        vertical-align: top;\n",
       "    }\n",
       "\n",
       "    .dataframe thead th {\n",
       "        text-align: right;\n",
       "    }\n",
       "</style>\n",
       "<table border=\"1\" class=\"dataframe\">\n",
       "  <thead>\n",
       "    <tr style=\"text-align: right;\">\n",
       "      <th></th>\n",
       "      <th>gazetteerId</th>\n",
       "      <th>categoryId</th>\n",
       "      <th>startYear</th>\n",
       "      <th>endYear</th>\n",
       "      <th>unitId</th>\n",
       "      <th>data</th>\n",
       "    </tr>\n",
       "  </thead>\n",
       "  <tbody>\n",
       "  </tbody>\n",
       "</table>\n",
       "</div>"
      ],
      "text/plain": [
       "Empty DataFrame\n",
       "Columns: [gazetteerId, categoryId, startYear, endYear, unitId, data]\n",
       "Index: []"
      ]
     },
     "execution_count": 30,
     "metadata": {},
     "output_type": "execute_result"
    }
   ],
   "source": [
    "# debug for foreign key constrain on gazetteerId\n",
    "ethnic_df[ethnic_df['gazetteerId'] == 657]"
   ]
  },
  {
   "cell_type": "code",
   "execution_count": 31,
   "metadata": {},
   "outputs": [],
   "source": [
    "ethnic_df.to_csv('ethnic_groups_df2.csv', index = False, na_rep = \"NULL\")"
   ]
  },
  {
   "cell_type": "code",
   "execution_count": 41,
   "metadata": {},
   "outputs": [],
   "source": [
    "category_df.to_csv('ethnic_group_category_df2.csv', index = False, na_rep = \"NULL\")"
   ]
  },
  {
   "cell_type": "code",
   "execution_count": 34,
   "metadata": {},
   "outputs": [],
   "source": [
    "unit_df.to_csv('ethnic_group_unit_df2.csv', index = False, na_rep = \"NULL\")"
   ]
  },
  {
   "cell_type": "code",
   "execution_count": 33,
   "metadata": {},
   "outputs": [
    {
     "data": {
      "text/html": [
       "<div>\n",
       "<style scoped>\n",
       "    .dataframe tbody tr th:only-of-type {\n",
       "        vertical-align: middle;\n",
       "    }\n",
       "\n",
       "    .dataframe tbody tr th {\n",
       "        vertical-align: top;\n",
       "    }\n",
       "\n",
       "    .dataframe thead th {\n",
       "        text-align: right;\n",
       "    }\n",
       "</style>\n",
       "<table border=\"1\" class=\"dataframe\">\n",
       "  <thead>\n",
       "    <tr style=\"text-align: right;\">\n",
       "      <th></th>\n",
       "      <th>id</th>\n",
       "      <th>name</th>\n",
       "    </tr>\n",
       "  </thead>\n",
       "  <tbody>\n",
       "    <tr>\n",
       "      <th>0</th>\n",
       "      <td>1</td>\n",
       "      <td>人数 Number of People</td>\n",
       "    </tr>\n",
       "    <tr>\n",
       "      <th>1</th>\n",
       "      <td>2</td>\n",
       "      <td>百分比 Percentage (%)</td>\n",
       "    </tr>\n",
       "    <tr>\n",
       "      <th>2</th>\n",
       "      <td>3</td>\n",
       "      <td>NULL</td>\n",
       "    </tr>\n",
       "    <tr>\n",
       "      <th>3</th>\n",
       "      <td>4</td>\n",
       "      <td>户数 Number of Households</td>\n",
       "    </tr>\n",
       "  </tbody>\n",
       "</table>\n",
       "</div>"
      ],
      "text/plain": [
       "   id                     name\n",
       "0   1      人数 Number of People\n",
       "1   2       百分比 Percentage (%)\n",
       "2   3                     NULL\n",
       "3   4  户数 Number of Households"
      ]
     },
     "execution_count": 33,
     "metadata": {},
     "output_type": "execute_result"
    }
   ],
   "source": [
    "unit_df"
   ]
  },
  {
   "cell_type": "code",
   "execution_count": null,
   "metadata": {},
   "outputs": [],
   "source": []
  }
 ],
 "metadata": {
  "kernelspec": {
   "display_name": "Python 3",
   "language": "python",
   "name": "python3"
  },
  "language_info": {
   "codemirror_mode": {
    "name": "ipython",
    "version": 3
   },
   "file_extension": ".py",
   "mimetype": "text/x-python",
   "name": "python",
   "nbconvert_exporter": "python",
   "pygments_lexer": "ipython3",
   "version": "3.7.3"
  }
 },
 "nbformat": 4,
 "nbformat_minor": 2
}
