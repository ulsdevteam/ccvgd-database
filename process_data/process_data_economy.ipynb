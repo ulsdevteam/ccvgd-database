{
 "cells": [
  {
   "cell_type": "code",
   "execution_count": 3,
   "metadata": {},
   "outputs": [],
   "source": [
    "import pandas as pd\n",
    "import numpy as np\n",
    "import math\n",
    "import os\n",
    "\n",
    "def printCategory(category_dict):\n",
    "    for category in category_dict:\n",
    "        print(category)\n",
    "        if category_dict[category] is not None:\n",
    "            sub_dic = category_dict[category]\n",
    "            printCategory(sub_dic)\n",
    "            \n",
    "def createLevelColumns(df, levels, new_columns):\n",
    "    for i in range(len(df)):\n",
    "        \n",
    "        df_level1, df_level2, df_level3 = \"NULL\",\"NULL\",\"NULL\"\n",
    "        \n",
    "        df_level1, nextLevels = findNotNullLevel(df, i, levels)\n",
    "        if nextLevels is not None:\n",
    "            df_level2, nextLevels = findNotNullLevel(df, i, nextLevels)\n",
    "            if nextLevels is not None:\n",
    "                df_level3, nextLevel = findNotNullLevel(df, i, nextLevels)\n",
    "        \n",
    "        most_specific_category = \"NULL\"\n",
    "        \n",
    "        if df_level3 != \"NULL\":\n",
    "            df_level3 = df_level3 + \"__\" + df_level2 + \"__\" + df_level1\n",
    "        if df_level2 != \"NULL\":\n",
    "            df_level2 = df_level2 + \"__\" + df_level1\n",
    "        \n",
    "        if df_level3 != \"NULL\":\n",
    "            most_specific_category = df_level3\n",
    "        elif df_level2 != \"NULL\":\n",
    "            most_specific_category = df_level2\n",
    "        elif df_level1 != \"NULL\":\n",
    "            most_specific_category = df_level1\n",
    "        \n",
    "        df.iloc[i, df.columns.get_loc('level1')] = df_level1\n",
    "        df.iloc[i, df.columns.get_loc('level2')] = df_level2\n",
    "        df.iloc[i, df.columns.get_loc('level3')] = df_level3\n",
    "        df.iloc[i, df.columns.get_loc('mostSpecificCategory')] = most_specific_category\n",
    "        \n",
    "def findNotNullLevel(df, i, levels):\n",
    "    for level in levels:\n",
    "        if df.iloc[i][level] == \"NULL\":\n",
    "            continue\n",
    "        else:\n",
    "            return df.iloc[i][level], levels[level]\n",
    "    return \"NULL\", None\n",
    "\n",
    "def unionTwoLists(list1, list2):\n",
    "    for category in list1:\n",
    "        if category not in list2:\n",
    "            list2.append(category)\n",
    "    return list2\n",
    "\n",
    "def checkNULL(checked_list):\n",
    "    for item in checked_list:\n",
    "        if item == \"NULL\":\n",
    "            print(\"Contains NULL\")\n",
    "            return\n",
    "    print(\"Not contains NULL\")"
   ]
  },
  {
   "cell_type": "markdown",
   "metadata": {},
   "source": [
    "#### 导入数据 yearly and range\n",
    "#### process为designed schema\n",
    "1. GazetteerEconomy table\n",
    "\n",
    "    1.1 Index - Id\n",
    "    \n",
    "    1.2 Gazetteer Code - gazetteerId\n",
    "    \n",
    "    1.3 Category - categoryId\n",
    "    \n",
    "    1.4 yearly - startYear = endYear\n",
    "    \n",
    "    1.5 2010 data - data\n",
    "    \n",
    "    1.6 Unit - unitId\n",
    "    \n",
    "2. EconomyCategory table\n",
    "    2.1 Category Division1 Subdivision - Agri. Subdivision - Misc. Subdivision - Service Division2 Subdivision - Househould\n",
    "    \n",
    "3. UnitCategory\n",
    "\n",
    "4. Gazetteer "
   ]
  },
  {
   "cell_type": "code",
   "execution_count": 4,
   "metadata": {},
   "outputs": [],
   "source": [
    "path = os.path.abspath(os.getcwd())\n",
    "df = pd.read_csv(path + \"/Data2/Economy - Yearly.csv\")\n",
    "df2 = pd.read_csv(path + \"/Data2/Economy - Range.csv\")"
   ]
  },
  {
   "cell_type": "code",
   "execution_count": 6,
   "metadata": {},
   "outputs": [
    {
     "name": "stdout",
     "output_type": "stream",
     "text": [
      "Category\n",
      "Division1\n",
      "Subdivision - Agri.\n",
      "Subdivision - Misc.\n",
      "Subdivision - Service\n",
      "Division2\n",
      "Subdivision - Household\n",
      "Contains NULL\n",
      "total number of categories are 67\n",
      "Not contains NULL\n",
      "total number of recorded categories are 59\n"
     ]
    }
   ],
   "source": [
    "# create new columns at df and df2\n",
    "new_columns = ['level1', 'level2', 'level3', 'mostSpecificCategory', 'categoryId']\n",
    "\n",
    "for column in new_columns:\n",
    "    df[column] = None\n",
    "df = df.where(df.notnull(), \"NULL\")\n",
    "\n",
    "for column in new_columns:\n",
    "    df2[column] = None\n",
    "df2 = df2.where(df2.notnull(), \"NULL\")\n",
    "\n",
    "# create dictionary records category levles\n",
    "heading = {'Category': \n",
    "            {'Division1':{'Subdivision - Agri.': None, 'Subdivision - Misc.': None, 'Subdivision - Service': None}, \n",
    "             'Division2':{'Subdivision - Household': None}\n",
    "            }\n",
    "           }\n",
    "\n",
    "printCategory(heading)\n",
    "\n",
    "\n",
    "createLevelColumns(df, heading, new_columns)\n",
    "createLevelColumns(df2, heading, new_columns)\n",
    "\n",
    "level1 = unionTwoLists([cat for cat in df['level1'].astype('category').unique()], \n",
    "                       [cat for cat in df2['level1'].astype('category').unique()] )\n",
    "\n",
    "level2 = unionTwoLists([cat for cat in df['level2'].astype('category').unique()], \n",
    "                       [cat for cat in df2['level2'].astype('category').unique()] )\n",
    "\n",
    "level3 = unionTwoLists([cat for cat in df['level3'].astype('category').unique()], \n",
    "                       [cat for cat in df2['level3'].astype('category').unique()] )\n",
    "\n",
    "most_specific_category = unionTwoLists([cat for cat in df['mostSpecificCategory'].astype('category').unique()],\n",
    "                                       [cat for cat in df2['mostSpecificCategory'].astype('category').unique()])\n",
    "\n",
    "total_categories = unionTwoLists(level1, level2)\n",
    "total_categories = unionTwoLists(level3, total_categories)\n",
    "\n",
    "# get total categories\n",
    "total_categories.sort()\n",
    "checkNULL(total_categories)\n",
    "print(\"total number of categories are \" + str(len(total_categories)))\n",
    "# temp = [ item.split('__', 1) for item in total_categories]\n",
    "\n",
    "# get most specific category\n",
    "most_specific_category.sort()\n",
    "checkNULL(most_specific_category)\n",
    "print(\"total number of recorded categories are \" + str(len(most_specific_category)))\n",
    "\n",
    "# create dict \"dic_category_id\" store { category_name : id}\n",
    "dic_category_id = {}\n",
    "count = 1\n",
    "for category in total_categories:\n",
    "    if category != \"NULL\" and category not in dic_category_id:\n",
    "        dic_category_id[category] = count\n",
    "        count = count + 1\n",
    "\n",
    "# create dict \"dic_for_unitId\" stores {unit: id}\n",
    "dic_for_unitId = {}\n",
    "count = 1\n",
    "units_from_df = unionTwoLists([cat for cat in df['Unit'].astype('category').unique()], [cat for cat in df2['Unit'].astype('category').unique()])\n",
    "for unit in units_from_df:\n",
    "    if unit not in dic_for_unitId:\n",
    "        dic_for_unitId[unit] = count\n",
    "        count = count + 1"
   ]
  },
  {
   "cell_type": "code",
   "execution_count": 7,
   "metadata": {},
   "outputs": [],
   "source": [
    "# creat categoryId column at dataframe\n",
    "df_categoryId = []\n",
    "for i in range(len(df)):\n",
    "    category = df.iloc[i]['mostSpecificCategory']\n",
    "    if category in dic_category_id:\n",
    "        df_categoryId.append(dic_category_id[category])\n",
    "    else:\n",
    "        print(\"Not recorded category for entity \" + i)\n",
    "        break;\n",
    "df['categoryId'] = df_categoryId\n",
    "\n",
    "df_categoryId = []\n",
    "for i in range(len(df2)):\n",
    "    category = df2.iloc[i]['mostSpecificCategory']\n",
    "    if category in dic_category_id:\n",
    "        df_categoryId.append(dic_category_id[category])\n",
    "    else:\n",
    "        print(\"Not recorded category for entity \" + i)\n",
    "        break;\n",
    "df2['categoryId'] = df_categoryId"
   ]
  },
  {
   "cell_type": "code",
   "execution_count": 8,
   "metadata": {},
   "outputs": [
    {
     "data": {
      "text/plain": [
       "Index(['村志代码 Gazetteer Code', '村志书名 Gazetteer Title', 'Category', 'Division1',\n",
       "       'Subdivision - Misc.', 'Subdivision - Service', 'Division2',\n",
       "       'Subdivision - Household', 'Subdivision - Agri.', 'Unit', 'Start Year',\n",
       "       'End Year', 'Data', 'level1', 'level2', 'level3',\n",
       "       'mostSpecificCategory', 'categoryId'],\n",
       "      dtype='object')"
      ]
     },
     "execution_count": 8,
     "metadata": {},
     "output_type": "execute_result"
    }
   ],
   "source": [
    "df2.columns"
   ]
  },
  {
   "cell_type": "code",
   "execution_count": 9,
   "metadata": {},
   "outputs": [
    {
     "data": {
      "text/html": [
       "<div>\n",
       "<style scoped>\n",
       "    .dataframe tbody tr th:only-of-type {\n",
       "        vertical-align: middle;\n",
       "    }\n",
       "\n",
       "    .dataframe tbody tr th {\n",
       "        vertical-align: top;\n",
       "    }\n",
       "\n",
       "    .dataframe thead th {\n",
       "        text-align: right;\n",
       "    }\n",
       "</style>\n",
       "<table border=\"1\" class=\"dataframe\">\n",
       "  <thead>\n",
       "    <tr style=\"text-align: right;\">\n",
       "      <th></th>\n",
       "      <th>gazetteerId</th>\n",
       "      <th>categoryId</th>\n",
       "      <th>startYear</th>\n",
       "      <th>endYear</th>\n",
       "      <th>data</th>\n",
       "      <th>unitId</th>\n",
       "    </tr>\n",
       "  </thead>\n",
       "  <tbody>\n",
       "    <tr>\n",
       "      <th>0</th>\n",
       "      <td>1</td>\n",
       "      <td>61</td>\n",
       "      <td>2008</td>\n",
       "      <td>2008</td>\n",
       "      <td>3232</td>\n",
       "      <td>3</td>\n",
       "    </tr>\n",
       "    <tr>\n",
       "      <th>1</th>\n",
       "      <td>1</td>\n",
       "      <td>60</td>\n",
       "      <td>2001</td>\n",
       "      <td>2001</td>\n",
       "      <td>2000</td>\n",
       "      <td>11</td>\n",
       "    </tr>\n",
       "    <tr>\n",
       "      <th>2</th>\n",
       "      <td>1</td>\n",
       "      <td>6</td>\n",
       "      <td>2000</td>\n",
       "      <td>2000</td>\n",
       "      <td>2565</td>\n",
       "      <td>4</td>\n",
       "    </tr>\n",
       "    <tr>\n",
       "      <th>3</th>\n",
       "      <td>1</td>\n",
       "      <td>6</td>\n",
       "      <td>2001</td>\n",
       "      <td>2001</td>\n",
       "      <td>2594</td>\n",
       "      <td>4</td>\n",
       "    </tr>\n",
       "    <tr>\n",
       "      <th>4</th>\n",
       "      <td>1</td>\n",
       "      <td>6</td>\n",
       "      <td>2008</td>\n",
       "      <td>2008</td>\n",
       "      <td>3000</td>\n",
       "      <td>4</td>\n",
       "    </tr>\n",
       "  </tbody>\n",
       "</table>\n",
       "</div>"
      ],
      "text/plain": [
       "   gazetteerId  categoryId  startYear  endYear  data  unitId\n",
       "0            1          61       2008     2008  3232       3\n",
       "1            1          60       2001     2001  2000      11\n",
       "2            1           6       2000     2000  2565       4\n",
       "3            1           6       2001     2001  2594       4\n",
       "4            1           6       2008     2008  3000       4"
      ]
     },
     "execution_count": 9,
     "metadata": {},
     "output_type": "execute_result"
    }
   ],
   "source": [
    "# create economy_df\n",
    "economy_df = pd.DataFrame(columns = ['gazetteerId', 'categoryId', 'startYear', 'endYear', 'data', 'unitId'])\n",
    "years = [str(i) for i in range(1949,2020)]\n",
    "dic_for_economy_df = {'gazetteerId':[], 'categoryId':[], 'startYear':[], 'endYear':[], 'data':[], 'unitId':[]}\n",
    "\n",
    "# Process yearly data\n",
    "for i in range(len(df)):# each row\n",
    "    for year in years: # 1949 - 2019\n",
    "        if df.iloc[i][year] != \"NULL\":\n",
    "            dic_for_economy_df['gazetteerId'].append(df.iloc[i]['村志代码 Gazetteer Code'])\n",
    "            dic_for_economy_df['categoryId'].append(df.iloc[i]['categoryId'])\n",
    "            dic_for_economy_df['startYear'].append(int(year))\n",
    "            dic_for_economy_df['endYear'].append(int(year))\n",
    "            dic_for_economy_df['data'].append(df.iloc[i][year])\n",
    "            dic_for_economy_df['unitId'].append(dic_for_unitId[df.iloc[i]['Unit']])\n",
    "\n",
    "# Process range data\n",
    "for i in range(len(df2)):\n",
    "    dic_for_economy_df['gazetteerId'].append(df2.iloc[i]['村志代码 Gazetteer Code'])\n",
    "    dic_for_economy_df['categoryId'].append(df2.iloc[i]['categoryId'])\n",
    "    dic_for_economy_df['startYear'].append(df2.iloc[i]['Start Year'])\n",
    "    dic_for_economy_df['endYear'].append(df2.iloc[i]['End Year'])\n",
    "    dic_for_economy_df['data'].append(df2.iloc[i]['Data'])\n",
    "    dic_for_economy_df['unitId'].append(dic_for_unitId[df.iloc[i]['Unit']])\n",
    "\n",
    "for attribute in economy_df.columns:\n",
    "    economy_df[attribute] = dic_for_economy_df[attribute]\n",
    "    \n",
    "\n",
    "economy_df.head()"
   ]
  },
  {
   "cell_type": "code",
   "execution_count": 10,
   "metadata": {},
   "outputs": [
    {
     "data": {
      "text/plain": [
       "66"
      ]
     },
     "execution_count": 10,
     "metadata": {},
     "output_type": "execute_result"
    }
   ],
   "source": [
    "# create economyCategory_df\n",
    "economyCategory_df = pd.DataFrame(columns = ['id', 'name', 'parentId'])\n",
    "dic_for_ecoCategorydf = {'id':[], 'name':[], 'parentId':[]}\n",
    "\n",
    "for category in dic_category_id:\n",
    "    child_parent = category.split('__', 1)\n",
    "    name = child_parent[0]\n",
    "    if len(child_parent) == 1:\n",
    "        dic_for_ecoCategorydf['id'].append(dic_category_id[category])\n",
    "        dic_for_ecoCategorydf['name'].append(name)\n",
    "        dic_for_ecoCategorydf['parentId'].append(\"NULL\")\n",
    "    else:\n",
    "        parentId = dic_category_id[child_parent[1]]\n",
    "        dic_for_ecoCategorydf['id'].append(dic_category_id[category])\n",
    "        dic_for_ecoCategorydf['name'].append(name)\n",
    "        dic_for_ecoCategorydf['parentId'].append(parentId)\n",
    "        \n",
    "for attribute in economyCategory_df.columns:\n",
    "    economyCategory_df[attribute] = dic_for_ecoCategorydf[attribute]\n",
    "len(economyCategory_df)"
   ]
  },
  {
   "cell_type": "code",
   "execution_count": 11,
   "metadata": {},
   "outputs": [
    {
     "data": {
      "text/plain": [
       "29"
      ]
     },
     "execution_count": 11,
     "metadata": {},
     "output_type": "execute_result"
    }
   ],
   "source": [
    "# creat economyUnitCategory_df\n",
    "economyUnitCategory_df = pd.DataFrame(columns = ['id', 'name'])\n",
    "dic_for_economyUnitCategory_df = {'id':[], 'name':[]}\n",
    "\n",
    "for unit_name in dic_for_unitId:\n",
    "    dic_for_economyUnitCategory_df['id'].append(dic_for_unitId[unit_name])\n",
    "    dic_for_economyUnitCategory_df['name'].append(unit_name)\n",
    "    \n",
    "for attribute in economyUnitCategory_df.columns:\n",
    "    economyUnitCategory_df[attribute] = dic_for_economyUnitCategory_df[attribute]\n",
    "len(economyUnitCategory_df)"
   ]
  },
  {
   "cell_type": "code",
   "execution_count": 14,
   "metadata": {},
   "outputs": [
    {
     "data": {
      "text/plain": [
       "199"
      ]
     },
     "execution_count": 14,
     "metadata": {},
     "output_type": "execute_result"
    }
   ],
   "source": [
    "count = 0\n",
    "for i in range(len(economy_df)):\n",
    "    if economy_df.iloc[i]['data'] == 0:\n",
    "        count = count + 1\n",
    "count"
   ]
  },
  {
   "cell_type": "code",
   "execution_count": 49,
   "metadata": {},
   "outputs": [],
   "source": [
    "# economy_df.to_csv('economy_df.csv', index = False, na_rep = \"NULL\")"
   ]
  },
  {
   "cell_type": "code",
   "execution_count": 12,
   "metadata": {},
   "outputs": [
    {
     "data": {
      "text/plain": [
       "46270"
      ]
     },
     "execution_count": 12,
     "metadata": {},
     "output_type": "execute_result"
    }
   ],
   "source": [
    "len(economy_df)"
   ]
  },
  {
   "cell_type": "code",
   "execution_count": 51,
   "metadata": {},
   "outputs": [],
   "source": [
    "# economyCategory_df.to_csv('economyCategory.csv', index = False, na_rep = \"NULL\")"
   ]
  },
  {
   "cell_type": "code",
   "execution_count": 52,
   "metadata": {},
   "outputs": [],
   "source": [
    "# economyUnitCategory_df.to_csv('economyUnitCategory_df.csv', index = False, na_rep = \"NULL\")"
   ]
  },
  {
   "cell_type": "code",
   "execution_count": 13,
   "metadata": {},
   "outputs": [
    {
     "name": "stdout",
     "output_type": "stream",
     "text": [
      "   id     name parentId\n",
      "0   1  General       35\n",
      "1   2  General       46\n",
      "   id                        name\n",
      "0   1  元每度 yuan per kilowatt-hour\n",
      "1   2                 万元 10K yuan\n",
      "   gazetteerId  categoryId  startYear  endYear   data  unitId\n",
      "0            1          61       2008     2008   3232       3\n",
      "1            1          60       2001     2001   2000      11\n",
      "2            1           6       2000     2000   2565       4\n",
      "3            1           6       2001     2001   2594       4\n",
      "4            1           6       2008     2008   3000       4\n",
      "5            2          26       1955     1955    6.9       2\n",
      "6            2          26       1966     1966   8.25       2\n",
      "7            2          26       1978     1978   17.9       2\n",
      "8            2          26       1984     1984    572       2\n",
      "9            2          26       2000     2000  749.5       2\n"
     ]
    }
   ],
   "source": [
    "print(economyCategory_df.head(2))\n",
    "print(economyUnitCategory_df.head(2))\n",
    "print(economy_df.head(10))"
   ]
  },
  {
   "cell_type": "code",
   "execution_count": null,
   "metadata": {},
   "outputs": [],
   "source": []
  },
  {
   "cell_type": "code",
   "execution_count": null,
   "metadata": {},
   "outputs": [],
   "source": []
  },
  {
   "cell_type": "code",
   "execution_count": null,
   "metadata": {},
   "outputs": [],
   "source": []
  },
  {
   "cell_type": "code",
   "execution_count": null,
   "metadata": {},
   "outputs": [],
   "source": []
  },
  {
   "cell_type": "code",
   "execution_count": null,
   "metadata": {},
   "outputs": [],
   "source": []
  },
  {
   "cell_type": "code",
   "execution_count": null,
   "metadata": {},
   "outputs": [],
   "source": []
  },
  {
   "cell_type": "code",
   "execution_count": null,
   "metadata": {},
   "outputs": [],
   "source": []
  },
  {
   "cell_type": "code",
   "execution_count": null,
   "metadata": {},
   "outputs": [],
   "source": []
  },
  {
   "cell_type": "code",
   "execution_count": null,
   "metadata": {},
   "outputs": [],
   "source": [
    "len(economy_df)"
   ]
  },
  {
   "cell_type": "code",
   "execution_count": null,
   "metadata": {},
   "outputs": [],
   "source": []
  },
  {
   "cell_type": "code",
   "execution_count": null,
   "metadata": {},
   "outputs": [],
   "source": []
  },
  {
   "cell_type": "code",
   "execution_count": null,
   "metadata": {},
   "outputs": [],
   "source": []
  },
  {
   "cell_type": "code",
   "execution_count": null,
   "metadata": {},
   "outputs": [],
   "source": []
  },
  {
   "cell_type": "code",
   "execution_count": null,
   "metadata": {},
   "outputs": [],
   "source": []
  },
  {
   "cell_type": "code",
   "execution_count": null,
   "metadata": {},
   "outputs": [],
   "source": []
  },
  {
   "cell_type": "code",
   "execution_count": null,
   "metadata": {},
   "outputs": [],
   "source": []
  },
  {
   "cell_type": "code",
   "execution_count": null,
   "metadata": {},
   "outputs": [],
   "source": []
  },
  {
   "cell_type": "code",
   "execution_count": null,
   "metadata": {},
   "outputs": [],
   "source": []
  },
  {
   "cell_type": "code",
   "execution_count": null,
   "metadata": {},
   "outputs": [],
   "source": []
  },
  {
   "cell_type": "code",
   "execution_count": null,
   "metadata": {},
   "outputs": [],
   "source": []
  },
  {
   "cell_type": "code",
   "execution_count": null,
   "metadata": {},
   "outputs": [],
   "source": []
  },
  {
   "cell_type": "code",
   "execution_count": null,
   "metadata": {},
   "outputs": [],
   "source": []
  },
  {
   "cell_type": "code",
   "execution_count": null,
   "metadata": {},
   "outputs": [],
   "source": []
  },
  {
   "cell_type": "code",
   "execution_count": null,
   "metadata": {},
   "outputs": [],
   "source": []
  }
 ],
 "metadata": {
  "kernelspec": {
   "display_name": "Python 3",
   "language": "python",
   "name": "python3"
  },
  "language_info": {
   "codemirror_mode": {
    "name": "ipython",
    "version": 3
   },
   "file_extension": ".py",
   "mimetype": "text/x-python",
   "name": "python",
   "nbconvert_exporter": "python",
   "pygments_lexer": "ipython3",
   "version": "3.7.3"
  }
 },
 "nbformat": 4,
 "nbformat_minor": 2
}
