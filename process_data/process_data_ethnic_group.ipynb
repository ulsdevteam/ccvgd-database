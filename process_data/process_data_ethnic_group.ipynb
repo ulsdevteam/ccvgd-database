{
 "cells": [
  {
   "cell_type": "code",
   "execution_count": 3,
   "metadata": {},
   "outputs": [],
   "source": [
    "import pandas as pd\n",
    "import numpy as np\n",
    "import math\n",
    "import os\n",
    "\n",
    "def unionTwoLists(list1, list2):\n",
    "    for category in list1:\n",
    "        if category not in list2:\n",
    "            list2.append(category)\n",
    "    return list2\n",
    "\n",
    "def checkNULL(checked_list):\n",
    "    for item in checked_list:\n",
    "        if item == \"NULL\":\n",
    "            print(\"Contains NULL\")\n",
    "            return\n",
    "    print(\"Not contains NULL\")"
   ]
  },
  {
   "cell_type": "markdown",
   "metadata": {},
   "source": [
    "#### 导入数据 yearly and range\n",
    "#### process为designed schema\n",
    "1. GazetteerEconomy table\n",
    "\n",
    "    1.1 Index - Id\n",
    "    \n",
    "    1.2 Gazetteer Code - gazetteerId\n",
    "    \n",
    "    1.3 Category - categoryId\n",
    "    \n",
    "    1.4 yearly - startYear = endYear\n",
    "    \n",
    "    1.5 2010 data - data\n",
    "    \n",
    "    1.6 Unit - unitId\n",
    "    \n",
    "2. EconomyCategory table\n",
    "    2.1 Category Division1 Subdivision - Agri. Subdivision - Misc. Subdivision - Service Division2 Subdivision - Househould\n",
    "    \n",
    "3. UnitCategory\n",
    "\n",
    "4. Gazetteer "
   ]
  },
  {
   "cell_type": "code",
   "execution_count": 4,
   "metadata": {},
   "outputs": [
    {
     "name": "stdout",
     "output_type": "stream",
     "text": [
      "Index(['村志代码 Gazetteer Code', '村志书名 Gazetteer Title', '民族 Ethnic Groups',\n",
      "       'Division1', '1949', '1950', '1951', '1952', '1953', '1954', '1955',\n",
      "       '1956', '1957', '1958', '1959', '1960', '1961', '1962', '1963', '1964',\n",
      "       '1965', '1966', '1967', '1968', '1969', '1970', '1971', '1972', '1973',\n",
      "       '1974', '1975', '1976', '1977', '1978', '1979', '1980', '1981', '1982',\n",
      "       '1983', '1984', '1985', '1986', '1987', '1988', '1989', '1990', '1991',\n",
      "       '1992', '1993', '1994', '1995', '1996', '1997', '1998', '1999', '2000',\n",
      "       '2001', '2002', '2003', '2004', '2005', '2006', '2007', '2008', '2009',\n",
      "       '2010', '2011', '2012', '2013', '2014', '2015', '2016', '2017', '2018',\n",
      "       '2019'],\n",
      "      dtype='object')\n",
      "Index(['村志代码 Gazetteer Code', '村志书名 Gazetteer Title', '民族 Ethnic Groups',\n",
      "       'Division1', 'Start Year', 'End Year', 'Data'],\n",
      "      dtype='object')\n"
     ]
    }
   ],
   "source": [
    "path = os.path.abspath(os.getcwd())\n",
    "df = pd.read_csv(path + \"/Data2/Ethnic Groups - Yearly.csv\")\n",
    "df2 = pd.read_csv(path + \"/Data2/Ethnic Groups - Range.csv\")\n",
    "df = df.dropna(axis = 0, how = 'all')\n",
    "df2 = df2.dropna(axis = 0, how = 'all')\n",
    "print(df.columns)\n",
    "print(df2.columns)"
   ]
  },
  {
   "cell_type": "code",
   "execution_count": 9,
   "metadata": {},
   "outputs": [
    {
     "data": {
      "text/plain": [
       "1"
      ]
     },
     "execution_count": 9,
     "metadata": {},
     "output_type": "execute_result"
    }
   ],
   "source": [
    "a = 1\n",
    "b = a if a == 0 else 1\n"
   ]
  },
  {
   "cell_type": "markdown",
   "metadata": {},
   "source": [
    "#### level1 column stores \"民族 Ethnic Groups\"\n",
    "#### level2 column stores \"民族 Ethnic Groups + Division1\" category"
   ]
  },
  {
   "cell_type": "code",
   "execution_count": 12,
   "metadata": {},
   "outputs": [
    {
     "name": "stdout",
     "output_type": "stream",
     "text": [
      "民族 Ethnic Groups\n",
      "Division1\n"
     ]
    }
   ],
   "source": [
    "def createLevelColumns(df, levels):\n",
    "    for i in range(len(df)):\n",
    "        \n",
    "        df_level1, df_level2 = \"NULL\",\"NULL\"\n",
    "        \n",
    "        df_level1, nextLevels = findNotNullLevel(df, i, levels)\n",
    "        if nextLevels is not None:\n",
    "            df_level2, nextLevels = findNotNullLevel(df, i, nextLevels)\n",
    "        \n",
    "        most_specific_category = \"NULL\"\n",
    "        \n",
    "        if df_level2 != \"NULL\":\n",
    "            df_level2 = df_level2 + \"__\" + df_level1 \n",
    "        \n",
    "        most_specific_category = df_level2 if df_level2 != \"NULL\" else df_level1\n",
    "        df.iloc[i, df.columns.get_loc('level1')] = df_level1\n",
    "        df.iloc[i, df.columns.get_loc('level2')] = df_level2\n",
    "        df.iloc[i, df.columns.get_loc('mostSpecificCategory')] = most_specific_category\n",
    "\n",
    "def findNotNullLevel(df, i, levels):\n",
    "    for level in levels:\n",
    "        if df.iloc[i][level] == \"NULL\":\n",
    "            continue\n",
    "        else:\n",
    "            return df.iloc[i][level], levels[level]\n",
    "    return \"NULL\", None\n",
    "\n",
    "def printCategory(category_dict):\n",
    "    for category in category_dict:\n",
    "        print(category)\n",
    "        if category_dict[category] is not None:\n",
    "            sub_dic = category_dict[category]\n",
    "            printCategory(sub_dic)\n",
    "            \n",
    "# create new columns at df and df2\n",
    "new_columns = ['level1', 'level2', 'mostSpecificCategory', 'categoryId']\n",
    "\n",
    "for column in new_columns:\n",
    "    df[column] = None\n",
    "df = df.where(df.notnull(), \"NULL\")\n",
    "\n",
    "for column in new_columns:\n",
    "    df2[column] = None\n",
    "df2 = df2.where(df2.notnull(), \"NULL\")\n",
    "\n",
    "# create dictionary records category levles\n",
    "levels = {'民族 Ethnic Groups': {'Division1': None}}\n",
    "\n",
    "printCategory(levels)\n",
    "\n",
    "\n",
    "createLevelColumns(df, levels)\n",
    "createLevelColumns(df2, levels)"
   ]
  },
  {
   "cell_type": "code",
   "execution_count": 13,
   "metadata": {},
   "outputs": [
    {
     "name": "stdout",
     "output_type": "stream",
     "text": [
      "Contains NULL\n",
      "total number of categories are 140\n",
      "Not contains NULL\n",
      "total number of recorded categories are 126\n"
     ]
    }
   ],
   "source": [
    "level1 = unionTwoLists([cat for cat in df['level1'].astype('category').unique()], \n",
    "                       [cat for cat in df2['level1'].astype('category').unique()] )\n",
    "\n",
    "level2 = unionTwoLists([cat for cat in df['level2'].astype('category').unique()], \n",
    "                       [cat for cat in df2['level2'].astype('category').unique()] )\n",
    "\n",
    "most_specific_category = unionTwoLists([cat for cat in df['mostSpecificCategory'].astype('category').unique()],\n",
    "                                       [cat for cat in df2['mostSpecificCategory'].astype('category').unique()])\n",
    "\n",
    "# get total categories\n",
    "total_categories = unionTwoLists(level1, level2)\n",
    "\n",
    "\n",
    "total_categories.sort()\n",
    "checkNULL(total_categories)\n",
    "print(\"total number of categories are \" + str(len(total_categories)))\n",
    "# temp = [ item.split('__', 1) for item in total_categories]\n",
    "\n",
    "# get most specific category\n",
    "most_specific_category.sort()\n",
    "checkNULL(most_specific_category)\n",
    "print(\"total number of recorded categories are \" + str(len(most_specific_category)))\n",
    "\n",
    "# create dict \"dic_category_id\" store { category_name : id}\n",
    "dic_category_id = {}\n",
    "count = 1\n",
    "for category in total_categories:\n",
    "    if category != \"NULL\" and category not in dic_category_id:\n",
    "        dic_category_id[category] = count\n",
    "        count = count + 1"
   ]
  },
  {
   "cell_type": "code",
   "execution_count": 18,
   "metadata": {},
   "outputs": [
    {
     "data": {
      "text/plain": [
       "['NULL',\n",
       " '京族 Gin',\n",
       " '人数 Number of People__京族 Gin',\n",
       " '人数 Number of People__仡佬族 Gelao',\n",
       " '人数 Number of People__仫佬族 Mulao',\n",
       " '人数 Number of People__佤族 Wa',\n",
       " '人数 Number of People__侗族 Dong',\n",
       " '人数 Number of People__傈僳族 Lisu',\n",
       " '人数 Number of People__傣族 Dai',\n",
       " '人数 Number of People__哈尼族 Ho /Hani',\n",
       " '人数 Number of People__哈萨克族 Kazakh',\n",
       " '人数 Number of People__回族 Hui',\n",
       " '人数 Number of People__土家族 Tujia',\n",
       " '人数 Number of People__土族 Tu',\n",
       " '人数 Number of People__壮族 Zhuang',\n",
       " '人数 Number of People__少数民族 (总) Ethnic Minorities (total)',\n",
       " '人数 Number of People__布依族 Bouyei',\n",
       " '人数 Number of People__布朗族 Blang',\n",
       " '人数 Number of People__彝族 Yi',\n",
       " \"人数 Number of People__德昂族 De'ang/Deang\",\n",
       " '人数 Number of People__怒族 Nu',\n",
       " '人数 Number of People__拉祜族 Lahu',\n",
       " '人数 Number of People__撒拉族 Salar',\n",
       " '人数 Number of People__普米族 Pumi',\n",
       " '人数 Number of People__景颇族 Jingpo',\n",
       " '人数 Number of People__朝鲜族 Korean/Choson',\n",
       " '人数 Number of People__毛南族 Maonan',\n",
       " '人数 Number of People__水族 Sui',\n",
       " '人数 Number of People__汉族 Han',\n",
       " '人数 Number of People__满族 Manchu',\n",
       " '人数 Number of People__独龙族 Dereng',\n",
       " '人数 Number of People__瑶族 Yao',\n",
       " '人数 Number of People__畲族 She',\n",
       " '人数 Number of People__白族 Bai',\n",
       " '人数 Number of People__纳西族 Nakhi/Naxi',\n",
       " '人数 Number of People__维吾尔族 Uyghur',\n",
       " '人数 Number of People__羌族 Qiang',\n",
       " '人数 Number of People__苗族 Miao',\n",
       " '人数 Number of People__蒙古族 Mongolian',\n",
       " '人数 Number of People__藏族 Tibetan',\n",
       " '人数 Number of People__赫哲族 Hezhen',\n",
       " '人数 Number of People__达斡尔族 Daur',\n",
       " '人数 Number of People__鄂伦春族 Oroqen',\n",
       " '人数 Number of People__鄂温克族 Evenki/Ewenki',\n",
       " '人数 Number of People__锡伯族 Xibe',\n",
       " '人数 Number of People__阿昌族 Achang',\n",
       " '人数 Number of People__黎族 Li',\n",
       " '仡佬族 Gelao',\n",
       " '仫佬族 Mulao',\n",
       " '佤族 Wa',\n",
       " '侗族 Dong',\n",
       " '傈僳族 Lisu',\n",
       " '傣族 Dai',\n",
       " '哈尼族 Ho /Hani',\n",
       " '哈萨克族 Kazakh',\n",
       " '回族 Hui',\n",
       " '土家族 Tujia',\n",
       " '土族 Tu',\n",
       " '壮族 Zhuang',\n",
       " '少数民族 (总) Ethnic Minorities (total)',\n",
       " '布依族 Bouyei',\n",
       " '布朗族 Blang',\n",
       " '彝族 Yi',\n",
       " \"德昂族 De'ang/Deang\",\n",
       " '怒族 Nu',\n",
       " '户数 Number of Households__傈僳族 Lisu',\n",
       " '户数 Number of Households__傣族 Dai',\n",
       " '户数 Number of Households__哈尼族 Ho /Hani',\n",
       " '户数 Number of Households__回族 Hui',\n",
       " '户数 Number of Households__土家族 Tujia',\n",
       " '户数 Number of Households__壮族 Zhuang',\n",
       " '户数 Number of Households__彝族 Yi',\n",
       " '户数 Number of Households__朝鲜族 Korean/Choson',\n",
       " '户数 Number of Households__汉族 Han',\n",
       " '户数 Number of Households__满族 Manchu',\n",
       " '户数 Number of Households__瑶族 Yao',\n",
       " '户数 Number of Households__白族 Bai',\n",
       " '户数 Number of Households__纳西族 Nakhi/Naxi',\n",
       " '户数 Number of Households__维吾尔族 Uyghur',\n",
       " '户数 Number of Households__苗族 Miao',\n",
       " '户数 Number of Households__蒙古族 Mongolian',\n",
       " '户数 Number of Households__藏族 Tibetan',\n",
       " '户数 Number of Households__达斡尔族 Daur',\n",
       " '户数 Number of Households__鄂伦春族 Oroqen',\n",
       " '户数 Number of Households__锡伯族 Xibe',\n",
       " '拉祜族 Lahu',\n",
       " '撒拉族 Salar',\n",
       " '普米族 Pumi',\n",
       " '景颇族 Jingpo',\n",
       " '朝鲜族 Korean/Choson',\n",
       " '毛南族 Maonan',\n",
       " '水族 Sui',\n",
       " '汉族 Han',\n",
       " '满族 Manchu',\n",
       " '独龙族 Dereng',\n",
       " '瑶族 Yao',\n",
       " '畲族 She',\n",
       " '白族 Bai',\n",
       " '百分比 Percentage (%)__仫佬族 Mulao',\n",
       " '百分比 Percentage (%)__侗族 Dong',\n",
       " '百分比 Percentage (%)__傈僳族 Lisu',\n",
       " '百分比 Percentage (%)__傣族 Dai',\n",
       " '百分比 Percentage (%)__哈尼族 Ho /Hani',\n",
       " '百分比 Percentage (%)__回族 Hui',\n",
       " '百分比 Percentage (%)__土家族 Tujia',\n",
       " '百分比 Percentage (%)__土族 Tu',\n",
       " '百分比 Percentage (%)__壮族 Zhuang',\n",
       " '百分比 Percentage (%)__少数民族 (总) Ethnic Minorities (total)',\n",
       " '百分比 Percentage (%)__布依族 Bouyei',\n",
       " '百分比 Percentage (%)__彝族 Yi',\n",
       " '百分比 Percentage (%)__拉祜族 Lahu',\n",
       " '百分比 Percentage (%)__普米族 Pumi',\n",
       " '百分比 Percentage (%)__朝鲜族 Korean/Choson',\n",
       " '百分比 Percentage (%)__毛南族 Maonan',\n",
       " '百分比 Percentage (%)__汉族 Han',\n",
       " '百分比 Percentage (%)__满族 Manchu',\n",
       " '百分比 Percentage (%)__瑶族 Yao',\n",
       " '百分比 Percentage (%)__畲族 She',\n",
       " '百分比 Percentage (%)__白族 Bai',\n",
       " '百分比 Percentage (%)__纳西族 Nakhi/Naxi',\n",
       " '百分比 Percentage (%)__维吾尔族 Uyghur',\n",
       " '百分比 Percentage (%)__苗族 Miao',\n",
       " '百分比 Percentage (%)__蒙古族 Mongolian',\n",
       " '百分比 Percentage (%)__达斡尔族 Daur',\n",
       " '百分比 Percentage (%)__鄂伦春族 Oroqen',\n",
       " '百分比 Percentage (%)__锡伯族 Xibe',\n",
       " '百分比 Percentage (%)__黎族 Li',\n",
       " '纳西族 Nakhi/Naxi',\n",
       " '维吾尔族 Uyghur',\n",
       " '羌族 Qiang',\n",
       " '苗族 Miao',\n",
       " '蒙古族 Mongolian',\n",
       " '藏族 Tibetan',\n",
       " '赫哲族 Hezhen',\n",
       " '达斡尔族 Daur',\n",
       " '鄂伦春族 Oroqen',\n",
       " '鄂温克族 Evenki/Ewenki',\n",
       " '锡伯族 Xibe',\n",
       " '阿昌族 Achang',\n",
       " '黎族 Li']"
      ]
     },
     "execution_count": 18,
     "metadata": {},
     "output_type": "execute_result"
    }
   ],
   "source": [
    "total_categories.sort()\n",
    "total_categories"
   ]
  },
  {
   "cell_type": "code",
   "execution_count": 15,
   "metadata": {},
   "outputs": [],
   "source": [
    "# creat categoryId column at dataframe\n",
    "df_categoryId = []\n",
    "for i in range(len(df)):\n",
    "    category = df.iloc[i]['mostSpecificCategory']\n",
    "    if category in dic_category_id:\n",
    "        df_categoryId.append(dic_category_id[category])\n",
    "    else:\n",
    "        print(\"Not recorded category for entity \" + str(i))\n",
    "        break;\n",
    "df['categoryId'] = df_categoryId\n",
    "\n",
    "df_categoryId = []\n",
    "for i in range(len(df2)):\n",
    "    category = df2.iloc[i]['mostSpecificCategory']\n",
    "    if category in dic_category_id:\n",
    "        df_categoryId.append(dic_category_id[category])\n",
    "    else:\n",
    "        print(\"Not recorded category for entity \" + str(i))\n",
    "        break;\n",
    "df2['categoryId'] = df_categoryId"
   ]
  },
  {
   "cell_type": "code",
   "execution_count": 16,
   "metadata": {},
   "outputs": [
    {
     "name": "stdout",
     "output_type": "stream",
     "text": [
      "Index(['村志代码 Gazetteer Code', '村志书名 Gazetteer Title', '民族 Ethnic Groups',\n",
      "       'Division1', '1949', '1950', '1951', '1952', '1953', '1954', '1955',\n",
      "       '1956', '1957', '1958', '1959', '1960', '1961', '1962', '1963', '1964',\n",
      "       '1965', '1966', '1967', '1968', '1969', '1970', '1971', '1972', '1973',\n",
      "       '1974', '1975', '1976', '1977', '1978', '1979', '1980', '1981', '1982',\n",
      "       '1983', '1984', '1985', '1986', '1987', '1988', '1989', '1990', '1991',\n",
      "       '1992', '1993', '1994', '1995', '1996', '1997', '1998', '1999', '2000',\n",
      "       '2001', '2002', '2003', '2004', '2005', '2006', '2007', '2008', '2009',\n",
      "       '2010', '2011', '2012', '2013', '2014', '2015', '2016', '2017', '2018',\n",
      "       '2019', 'level1', 'level2', 'mostSpecificCategory', 'categoryId'],\n",
      "      dtype='object')\n",
      "Index(['村志代码 Gazetteer Code', '村志书名 Gazetteer Title', '民族 Ethnic Groups',\n",
      "       'Division1', 'Start Year', 'End Year', 'Data', 'level1', 'level2',\n",
      "       'mostSpecificCategory', 'categoryId'],\n",
      "      dtype='object')\n"
     ]
    }
   ],
   "source": [
    "print(df.columns)\n",
    "print(df2.columns)"
   ]
  },
  {
   "cell_type": "code",
   "execution_count": 17,
   "metadata": {},
   "outputs": [
    {
     "data": {
      "text/html": [
       "<div>\n",
       "<style scoped>\n",
       "    .dataframe tbody tr th:only-of-type {\n",
       "        vertical-align: middle;\n",
       "    }\n",
       "\n",
       "    .dataframe tbody tr th {\n",
       "        vertical-align: top;\n",
       "    }\n",
       "\n",
       "    .dataframe thead th {\n",
       "        text-align: right;\n",
       "    }\n",
       "</style>\n",
       "<table border=\"1\" class=\"dataframe\">\n",
       "  <thead>\n",
       "    <tr style=\"text-align: right;\">\n",
       "      <th></th>\n",
       "      <th>gazetteerId</th>\n",
       "      <th>categoryId</th>\n",
       "      <th>startYear</th>\n",
       "      <th>endYear</th>\n",
       "      <th>data</th>\n",
       "    </tr>\n",
       "  </thead>\n",
       "  <tbody>\n",
       "    <tr>\n",
       "      <th>0</th>\n",
       "      <td>3</td>\n",
       "      <td>15</td>\n",
       "      <td>1949</td>\n",
       "      <td>1949</td>\n",
       "      <td>NULL</td>\n",
       "    </tr>\n",
       "    <tr>\n",
       "      <th>1</th>\n",
       "      <td>3</td>\n",
       "      <td>15</td>\n",
       "      <td>1950</td>\n",
       "      <td>1950</td>\n",
       "      <td>NULL</td>\n",
       "    </tr>\n",
       "    <tr>\n",
       "      <th>2</th>\n",
       "      <td>3</td>\n",
       "      <td>15</td>\n",
       "      <td>1951</td>\n",
       "      <td>1951</td>\n",
       "      <td>NULL</td>\n",
       "    </tr>\n",
       "    <tr>\n",
       "      <th>3</th>\n",
       "      <td>3</td>\n",
       "      <td>15</td>\n",
       "      <td>1952</td>\n",
       "      <td>1952</td>\n",
       "      <td>NULL</td>\n",
       "    </tr>\n",
       "    <tr>\n",
       "      <th>4</th>\n",
       "      <td>3</td>\n",
       "      <td>15</td>\n",
       "      <td>1953</td>\n",
       "      <td>1953</td>\n",
       "      <td>NULL</td>\n",
       "    </tr>\n",
       "  </tbody>\n",
       "</table>\n",
       "</div>"
      ],
      "text/plain": [
       "   gazetteerId  categoryId  startYear  endYear  data\n",
       "0            3          15       1949     1949  NULL\n",
       "1            3          15       1950     1950  NULL\n",
       "2            3          15       1951     1951  NULL\n",
       "3            3          15       1952     1952  NULL\n",
       "4            3          15       1953     1953  NULL"
      ]
     },
     "execution_count": 17,
     "metadata": {},
     "output_type": "execute_result"
    }
   ],
   "source": [
    "# create economy_df\n",
    "economy_df = pd.DataFrame(columns = ['gazetteerId', 'categoryId', 'startYear', 'endYear', 'data'])\n",
    "years = [str(i) for i in range(1949,2020)]\n",
    "dic_for_economy_df = {'gazetteerId':[], 'categoryId':[], 'startYear':[], 'endYear':[], 'data':[]}\n",
    "\n",
    "# Process yearly data\n",
    "for i in range(len(df)):# each row\n",
    "    for year in years: # 1949 - 2019\n",
    "#         if df.iloc[i][year] != \"NULL\":\n",
    "        dic_for_economy_df['gazetteerId'].append(df.iloc[i]['村志代码 Gazetteer Code'])\n",
    "        dic_for_economy_df['categoryId'].append(df.iloc[i]['categoryId'])\n",
    "        dic_for_economy_df['startYear'].append(int(year))\n",
    "        dic_for_economy_df['endYear'].append(int(year))\n",
    "        dic_for_economy_df['data'].append(df.iloc[i][year])\n",
    "#             dic_for_economy_df['unitId'].append(dic_for_unitId[df.iloc[i]['Unit']])\n",
    "\n",
    "# Process range data\n",
    "for i in range(len(df2)):\n",
    "    dic_for_economy_df['gazetteerId'].append(df2.iloc[i]['村志代码 Gazetteer Code'])\n",
    "    dic_for_economy_df['categoryId'].append(df2.iloc[i]['categoryId'])\n",
    "    dic_for_economy_df['startYear'].append(df2.iloc[i]['Start Year'])\n",
    "    dic_for_economy_df['endYear'].append(df2.iloc[i]['End Year'])\n",
    "    dic_for_economy_df['data'].append(df2.iloc[i]['Data'])\n",
    "#     dic_for_economy_df['unitId'].append(dic_for_unitId[df.iloc[i]['Unit']])\n",
    "\n",
    "for attribute in economy_df.columns:\n",
    "    economy_df[attribute] = dic_for_economy_df[attribute]\n",
    "    \n",
    "\n",
    "economy_df.head()"
   ]
  },
  {
   "cell_type": "code",
   "execution_count": 14,
   "metadata": {},
   "outputs": [
    {
     "data": {
      "text/plain": [
       "139"
      ]
     },
     "execution_count": 14,
     "metadata": {},
     "output_type": "execute_result"
    }
   ],
   "source": [
    "# create economyCategory_df\n",
    "economyCategory_df = pd.DataFrame(columns = ['id', 'name', 'parentId'])\n",
    "dic_for_ecoCategorydf = {'id':[], 'name':[], 'parentId':[]}\n",
    "\n",
    "for category in dic_category_id:\n",
    "    child_parent = category.split('__', 1)\n",
    "    name = child_parent[0]\n",
    "    if len(child_parent) == 1:\n",
    "        dic_for_ecoCategorydf['id'].append(dic_category_id[category])\n",
    "        dic_for_ecoCategorydf['name'].append(name)\n",
    "        dic_for_ecoCategorydf['parentId'].append(\"NULL\")\n",
    "    else:\n",
    "        parentId = dic_category_id[child_parent[1]]\n",
    "        dic_for_ecoCategorydf['id'].append(dic_category_id[category])\n",
    "        dic_for_ecoCategorydf['name'].append(name)\n",
    "        dic_for_ecoCategorydf['parentId'].append(parentId)\n",
    "        \n",
    "for attribute in economyCategory_df.columns:\n",
    "    economyCategory_df[attribute] = dic_for_ecoCategorydf[attribute]\n",
    "len(economyCategory_df)"
   ]
  },
  {
   "cell_type": "code",
   "execution_count": 15,
   "metadata": {},
   "outputs": [],
   "source": [
    "# creat economyUnitCategory_df\n",
    "# economyUnitCategory_df = pd.DataFrame(columns = ['id', 'name'])\n",
    "# dic_for_economyUnitCategory_df = {'id':[], 'name':[]}\n",
    "\n",
    "# for unit_name in dic_for_unitId:\n",
    "#     dic_for_economyUnitCategory_df['id'].append(dic_for_unitId[unit_name])\n",
    "#     dic_for_economyUnitCategory_df['name'].append(unit_name)\n",
    "    \n",
    "# for attribute in economyUnitCategory_df.columns:\n",
    "#     economyUnitCategory_df[attribute] = dic_for_economyUnitCategory_df[attribute]\n",
    "# len(economyUnitCategory_df)"
   ]
  },
  {
   "cell_type": "code",
   "execution_count": 16,
   "metadata": {},
   "outputs": [],
   "source": [
    "economy_df.to_csv('ethnic_group_df2.csv', index = False, na_rep = \"NULL\")"
   ]
  },
  {
   "cell_type": "code",
   "execution_count": 17,
   "metadata": {},
   "outputs": [],
   "source": [
    "economyCategory_df.to_csv('ethnicGroupCategory.csv', index = False, na_rep = \"NULL\")"
   ]
  },
  {
   "cell_type": "code",
   "execution_count": 45,
   "metadata": {},
   "outputs": [],
   "source": [
    "# economyUnitCategory_df.to_csv('economyUnitCategory_df.csv', index = False, na_rep = \"NULL\")"
   ]
  },
  {
   "cell_type": "code",
   "execution_count": 18,
   "metadata": {},
   "outputs": [
    {
     "data": {
      "text/plain": [
       "2341"
      ]
     },
     "execution_count": 18,
     "metadata": {},
     "output_type": "execute_result"
    }
   ],
   "source": [
    "len(economy_df)"
   ]
  },
  {
   "cell_type": "code",
   "execution_count": 20,
   "metadata": {},
   "outputs": [
    {
     "data": {
      "text/plain": [
       "1"
      ]
     },
     "execution_count": 20,
     "metadata": {},
     "output_type": "execute_result"
    }
   ],
   "source": [
    "count = 0\n",
    "for i in range(len(economy_df)):\n",
    "    if economy_df.iloc[i]['data'] == 0:\n",
    "        count = count + 1\n",
    "count"
   ]
  },
  {
   "cell_type": "code",
   "execution_count": null,
   "metadata": {},
   "outputs": [],
   "source": []
  },
  {
   "cell_type": "code",
   "execution_count": null,
   "metadata": {},
   "outputs": [],
   "source": []
  },
  {
   "cell_type": "code",
   "execution_count": null,
   "metadata": {},
   "outputs": [],
   "source": []
  },
  {
   "cell_type": "code",
   "execution_count": null,
   "metadata": {},
   "outputs": [],
   "source": []
  },
  {
   "cell_type": "code",
   "execution_count": null,
   "metadata": {},
   "outputs": [],
   "source": []
  },
  {
   "cell_type": "code",
   "execution_count": null,
   "metadata": {},
   "outputs": [],
   "source": []
  },
  {
   "cell_type": "code",
   "execution_count": null,
   "metadata": {},
   "outputs": [],
   "source": []
  },
  {
   "cell_type": "code",
   "execution_count": null,
   "metadata": {},
   "outputs": [],
   "source": []
  },
  {
   "cell_type": "code",
   "execution_count": null,
   "metadata": {},
   "outputs": [],
   "source": []
  },
  {
   "cell_type": "code",
   "execution_count": null,
   "metadata": {},
   "outputs": [],
   "source": []
  },
  {
   "cell_type": "code",
   "execution_count": null,
   "metadata": {},
   "outputs": [],
   "source": []
  },
  {
   "cell_type": "code",
   "execution_count": null,
   "metadata": {},
   "outputs": [],
   "source": []
  },
  {
   "cell_type": "code",
   "execution_count": null,
   "metadata": {},
   "outputs": [],
   "source": []
  },
  {
   "cell_type": "code",
   "execution_count": null,
   "metadata": {},
   "outputs": [],
   "source": []
  },
  {
   "cell_type": "code",
   "execution_count": null,
   "metadata": {},
   "outputs": [],
   "source": []
  },
  {
   "cell_type": "code",
   "execution_count": null,
   "metadata": {},
   "outputs": [],
   "source": []
  },
  {
   "cell_type": "code",
   "execution_count": null,
   "metadata": {},
   "outputs": [],
   "source": []
  },
  {
   "cell_type": "code",
   "execution_count": null,
   "metadata": {},
   "outputs": [],
   "source": []
  },
  {
   "cell_type": "code",
   "execution_count": null,
   "metadata": {},
   "outputs": [],
   "source": []
  },
  {
   "cell_type": "code",
   "execution_count": null,
   "metadata": {},
   "outputs": [],
   "source": []
  },
  {
   "cell_type": "code",
   "execution_count": null,
   "metadata": {},
   "outputs": [],
   "source": []
  },
  {
   "cell_type": "code",
   "execution_count": null,
   "metadata": {},
   "outputs": [],
   "source": []
  },
  {
   "cell_type": "code",
   "execution_count": null,
   "metadata": {},
   "outputs": [],
   "source": []
  }
 ],
 "metadata": {
  "kernelspec": {
   "display_name": "Python 3",
   "language": "python",
   "name": "python3"
  },
  "language_info": {
   "codemirror_mode": {
    "name": "ipython",
    "version": 3
   },
   "file_extension": ".py",
   "mimetype": "text/x-python",
   "name": "python",
   "nbconvert_exporter": "python",
   "pygments_lexer": "ipython3",
   "version": "3.7.3"
  }
 },
 "nbformat": 4,
 "nbformat_minor": 2
}
